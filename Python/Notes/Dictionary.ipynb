{
 "cells": [
  {
   "cell_type": "code",
   "execution_count": 1,
   "id": "7c037ee8",
   "metadata": {},
   "outputs": [
    {
     "data": {
      "text/plain": [
       "{}"
      ]
     },
     "execution_count": 1,
     "metadata": {},
     "output_type": "execute_result"
    }
   ],
   "source": [
    "d1={}\n",
    "d1"
   ]
  },
  {
   "cell_type": "code",
   "execution_count": 2,
   "id": "e9f594a4",
   "metadata": {},
   "outputs": [
    {
     "data": {
      "text/plain": [
       "{}"
      ]
     },
     "execution_count": 2,
     "metadata": {},
     "output_type": "execute_result"
    }
   ],
   "source": [
    "# empty dictionary\n",
    "d2=dict()\n",
    "d2"
   ]
  },
  {
   "cell_type": "code",
   "execution_count": 5,
   "id": "e1639a16",
   "metadata": {},
   "outputs": [
    {
     "name": "stdout",
     "output_type": "stream",
     "text": [
      "{'CS210019': 7.9, 'Cs210018': 7.5}\n"
     ]
    },
    {
     "data": {
      "text/plain": [
       "{'CS210019': 8.9, 'Cs210018': 7.3}"
      ]
     },
     "execution_count": 5,
     "metadata": {},
     "output_type": "execute_result"
    }
   ],
   "source": [
    "# create dictionary with key as usn and values as cgpa\n",
    "d3= {'CS210019':7.9,'Cs210018': 7.5}\n",
    "print(d3)\n",
    "d4 = dict({'CS210019':8.9,'Cs210018': 7.3})\n",
    "d4"
   ]
  },
  {
   "cell_type": "code",
   "execution_count": 7,
   "id": "5ac84498",
   "metadata": {},
   "outputs": [
    {
     "data": {
      "text/plain": [
       "{'CS210019': 8.9, 'Cs210018': 7.3}"
      ]
     },
     "execution_count": 7,
     "metadata": {},
     "output_type": "execute_result"
    }
   ],
   "source": [
    "d5= dict([('CS210019',8.9),('Cs210018',7.3)])\n",
    "d5"
   ]
  },
  {
   "cell_type": "code",
   "execution_count": 8,
   "id": "59187aee",
   "metadata": {},
   "outputs": [
    {
     "name": "stdout",
     "output_type": "stream",
     "text": [
      "2\n"
     ]
    }
   ],
   "source": [
    "print(len(d5))"
   ]
  },
  {
   "cell_type": "code",
   "execution_count": 10,
   "id": "6808ee23",
   "metadata": {},
   "outputs": [
    {
     "data": {
      "text/plain": [
       "8.9"
      ]
     },
     "execution_count": 10,
     "metadata": {},
     "output_type": "execute_result"
    }
   ],
   "source": [
    "d5['CS210019']"
   ]
  },
  {
   "cell_type": "code",
   "execution_count": 15,
   "id": "3afc5467",
   "metadata": {},
   "outputs": [
    {
     "name": "stdout",
     "output_type": "stream",
     "text": [
      "<class 'dict_items'>\n"
     ]
    }
   ],
   "source": [
    "# retrieve all the key-value pairs\n",
    "print(type(d5.items()))"
   ]
  },
  {
   "cell_type": "code",
   "execution_count": 20,
   "id": "6ffde396",
   "metadata": {},
   "outputs": [
    {
     "name": "stdout",
     "output_type": "stream",
     "text": [
      "<class 'dict_keys'>\n",
      "dict_keys(['CS210019', 'Cs210018'])\n"
     ]
    },
    {
     "data": {
      "text/plain": [
       "'CS210019'"
      ]
     },
     "execution_count": 20,
     "metadata": {},
     "output_type": "execute_result"
    }
   ],
   "source": [
    "# retrieve all the keys\n",
    "print(type(d5.keys()))\n",
    "print(d5.keys())\n",
    "dkeys=d5.keys()\n",
    "l1=list(dkeys)\n",
    "l1[0]"
   ]
  },
  {
   "cell_type": "code",
   "execution_count": 25,
   "id": "0bf3caef",
   "metadata": {},
   "outputs": [
    {
     "data": {
      "text/plain": [
       "0"
      ]
     },
     "execution_count": 25,
     "metadata": {},
     "output_type": "execute_result"
    }
   ],
   "source": [
    "d5.get('CS210029',0)"
   ]
  },
  {
   "cell_type": "code",
   "execution_count": 28,
   "id": "35c0a837",
   "metadata": {},
   "outputs": [
    {
     "name": "stdout",
     "output_type": "stream",
     "text": [
      "{'CS210019': 8.9, 'Cs210018': 7.3}\n"
     ]
    },
    {
     "data": {
      "text/plain": [
       "8.9"
      ]
     },
     "execution_count": 28,
     "metadata": {},
     "output_type": "execute_result"
    }
   ],
   "source": [
    "\n",
    "print(d5)\n",
    "d5.get('CS210019',0)"
   ]
  },
  {
   "cell_type": "code",
   "execution_count": 13,
   "id": "3017fdad",
   "metadata": {},
   "outputs": [
    {
     "name": "stdout",
     "output_type": "stream",
     "text": [
      "dict_values([8.9, 7.3])\n"
     ]
    }
   ],
   "source": [
    "# retrieve all the values\n",
    "print(d5.values())"
   ]
  },
  {
   "cell_type": "code",
   "execution_count": 14,
   "id": "93760cea",
   "metadata": {},
   "outputs": [
    {
     "data": {
      "text/plain": [
       "dict"
      ]
     },
     "execution_count": 14,
     "metadata": {},
     "output_type": "execute_result"
    }
   ],
   "source": [
    "type(d5)"
   ]
  },
  {
   "cell_type": "code",
   "execution_count": 29,
   "id": "b56305fc",
   "metadata": {},
   "outputs": [
    {
     "name": "stdout",
     "output_type": "stream",
     "text": [
      "CS210019 8.9\n",
      "Cs210018 7.3\n"
     ]
    }
   ],
   "source": [
    "for key in d5:\n",
    "    print(key, d5[key])"
   ]
  },
  {
   "cell_type": "code",
   "execution_count": null,
   "id": "dbba4d93",
   "metadata": {},
   "outputs": [],
   "source": [
    "''' 1. Create a dictionary with usn as key and values is list of \n",
    "marks in 3 subjects\n",
    "2. Display the usn with average marks\n",
    "3. Display the usn and marks in sorted order of usn\n",
    "4. Display the usn and average in sorted order of usn"
   ]
  },
  {
   "cell_type": "code",
   "execution_count": 30,
   "id": "c53b5bb8",
   "metadata": {},
   "outputs": [
    {
     "data": {
      "text/plain": [
       "{'cs014': [18, 15, 19], 'cs004': [18, 12, 14], 'cs016': [8, 18, 19]}"
      ]
     },
     "execution_count": 30,
     "metadata": {},
     "output_type": "execute_result"
    }
   ],
   "source": [
    "studict = {'cs014':[18,15,19], 'cs004':[18,12,14],'cs016':[8,18,19]}\n",
    "studict"
   ]
  },
  {
   "cell_type": "code",
   "execution_count": 31,
   "id": "8c2e04f1",
   "metadata": {},
   "outputs": [
    {
     "data": {
      "text/plain": [
       "3"
      ]
     },
     "execution_count": 31,
     "metadata": {},
     "output_type": "execute_result"
    }
   ],
   "source": [
    "len(studict)"
   ]
  },
  {
   "cell_type": "code",
   "execution_count": 33,
   "id": "9f20276f",
   "metadata": {},
   "outputs": [
    {
     "name": "stdout",
     "output_type": "stream",
     "text": [
      "[18, 15, 19]\n"
     ]
    },
    {
     "data": {
      "text/plain": [
       "17.333333333333332"
      ]
     },
     "execution_count": 33,
     "metadata": {},
     "output_type": "execute_result"
    }
   ],
   "source": [
    "l1=studict['cs014']\n",
    "print(l1)\n",
    "avg=sum(l1)/len(l1)\n",
    "avg"
   ]
  },
  {
   "cell_type": "code",
   "execution_count": 34,
   "id": "cef15e75",
   "metadata": {},
   "outputs": [
    {
     "name": "stdout",
     "output_type": "stream",
     "text": [
      "for the cs014 with values:[18, 15, 19] the average is 17.333333333333332\n",
      "for the cs004 with values:[18, 12, 14] the average is 14.666666666666666\n",
      "for the cs016 with values:[8, 18, 19] the average is 15.0\n"
     ]
    }
   ],
   "source": [
    "for usn in studict:\n",
    "    l1=studict[usn]\n",
    "    avg=sum(l1)/len(l1)\n",
    "    print(\"for the {} with values:{} the average is {}\".format(usn,l1, avg))"
   ]
  },
  {
   "cell_type": "code",
   "execution_count": null,
   "id": "2335b6d6",
   "metadata": {},
   "outputs": [],
   "source": [
    "\n"
   ]
  }
 ],
 "metadata": {
  "kernelspec": {
   "display_name": "Python 3",
   "language": "python",
   "name": "python3"
  },
  "language_info": {
   "codemirror_mode": {
    "name": "ipython",
    "version": 3
   },
   "file_extension": ".py",
   "mimetype": "text/x-python",
   "name": "python",
   "nbconvert_exporter": "python",
   "pygments_lexer": "ipython3",
   "version": "3.11.0 (main, Oct 24 2022, 18:26:48) [MSC v.1933 64 bit (AMD64)]"
  },
  "vscode": {
   "interpreter": {
    "hash": "1c0600e66f10d4d196fe53bd7753043bf41876ffad1cf3c6ca157aafa009519c"
   }
  }
 },
 "nbformat": 4,
 "nbformat_minor": 5
}
