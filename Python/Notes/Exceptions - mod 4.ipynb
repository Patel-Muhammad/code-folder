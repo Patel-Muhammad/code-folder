{
 "cells": [
  {
   "cell_type": "code",
   "execution_count": 1,
   "id": "a2e59b7f",
   "metadata": {},
   "outputs": [
    {
     "ename": "ZeroDivisionError",
     "evalue": "division by zero",
     "output_type": "error",
     "traceback": [
      "\u001b[1;31m---------------------------------------------------------------------------\u001b[0m",
      "\u001b[1;31mZeroDivisionError\u001b[0m                         Traceback (most recent call last)",
      "\u001b[1;32m<ipython-input-1-a8755be1480f>\u001b[0m in \u001b[0;36m<module>\u001b[1;34m\u001b[0m\n\u001b[1;32m----> 1\u001b[1;33m \u001b[0mc\u001b[0m\u001b[1;33m=\u001b[0m\u001b[1;36m5\u001b[0m\u001b[1;33m/\u001b[0m\u001b[1;36m0\u001b[0m\u001b[1;33m\u001b[0m\u001b[1;33m\u001b[0m\u001b[0m\n\u001b[0m",
      "\u001b[1;31mZeroDivisionError\u001b[0m: division by zero"
     ]
    }
   ],
   "source": [
    "c=5/0"
   ]
  },
  {
   "cell_type": "code",
   "execution_count": 2,
   "id": "78f29558",
   "metadata": {},
   "outputs": [
    {
     "name": "stdout",
     "output_type": "stream",
     "text": [
      "Enter a:t\n"
     ]
    },
    {
     "ename": "ValueError",
     "evalue": "invalid literal for int() with base 10: 't'",
     "output_type": "error",
     "traceback": [
      "\u001b[1;31m---------------------------------------------------------------------------\u001b[0m",
      "\u001b[1;31mValueError\u001b[0m                                Traceback (most recent call last)",
      "\u001b[1;32m<ipython-input-2-08d0b4d92490>\u001b[0m in \u001b[0;36m<module>\u001b[1;34m\u001b[0m\n\u001b[1;32m----> 1\u001b[1;33m \u001b[0ma\u001b[0m\u001b[1;33m=\u001b[0m\u001b[0mint\u001b[0m\u001b[1;33m(\u001b[0m\u001b[0minput\u001b[0m\u001b[1;33m(\u001b[0m\u001b[1;34m\"Enter a:\"\u001b[0m\u001b[1;33m)\u001b[0m\u001b[1;33m)\u001b[0m\u001b[1;33m\u001b[0m\u001b[1;33m\u001b[0m\u001b[0m\n\u001b[0m\u001b[0;32m      2\u001b[0m \u001b[0mb\u001b[0m\u001b[1;33m=\u001b[0m\u001b[0mint\u001b[0m\u001b[1;33m(\u001b[0m\u001b[0minput\u001b[0m\u001b[1;33m(\u001b[0m\u001b[1;34m\"Enter b:\"\u001b[0m\u001b[1;33m)\u001b[0m\u001b[1;33m)\u001b[0m\u001b[1;33m\u001b[0m\u001b[1;33m\u001b[0m\u001b[0m\n\u001b[0;32m      3\u001b[0m \u001b[0mc\u001b[0m\u001b[1;33m=\u001b[0m\u001b[0ma\u001b[0m\u001b[1;33m/\u001b[0m\u001b[0mb\u001b[0m\u001b[1;33m\u001b[0m\u001b[1;33m\u001b[0m\u001b[0m\n\u001b[0;32m      4\u001b[0m \u001b[0mprint\u001b[0m\u001b[1;33m(\u001b[0m\u001b[0mc\u001b[0m\u001b[1;33m)\u001b[0m\u001b[1;33m\u001b[0m\u001b[1;33m\u001b[0m\u001b[0m\n",
      "\u001b[1;31mValueError\u001b[0m: invalid literal for int() with base 10: 't'"
     ]
    }
   ],
   "source": [
    "a=int(input(\"Enter a:\"))\n",
    "b=int(input(\"Enter b:\"))\n",
    "c=a/b\n",
    "print(c)"
   ]
  },
  {
   "cell_type": "code",
   "execution_count": 6,
   "id": "c358de74",
   "metadata": {},
   "outputs": [
    {
     "ename": "ZeroDivisionError",
     "evalue": "division by zero",
     "output_type": "error",
     "traceback": [
      "\u001b[1;31m---------------------------------------------------------------------------\u001b[0m",
      "\u001b[1;31mZeroDivisionError\u001b[0m                         Traceback (most recent call last)",
      "\u001b[1;32m<ipython-input-6-bcbf6ac57dd4>\u001b[0m in \u001b[0;36m<module>\u001b[1;34m\u001b[0m\n\u001b[0;32m      1\u001b[0m \u001b[0ma\u001b[0m\u001b[1;33m=\u001b[0m\u001b[1;36m9\u001b[0m\u001b[1;33m\u001b[0m\u001b[1;33m\u001b[0m\u001b[0m\n\u001b[0;32m      2\u001b[0m \u001b[0mb\u001b[0m\u001b[1;33m=\u001b[0m\u001b[1;36m0\u001b[0m\u001b[1;33m\u001b[0m\u001b[1;33m\u001b[0m\u001b[0m\n\u001b[1;32m----> 3\u001b[1;33m \u001b[0mc\u001b[0m\u001b[1;33m=\u001b[0m \u001b[0ma\u001b[0m\u001b[1;33m/\u001b[0m\u001b[0mb\u001b[0m\u001b[1;33m\u001b[0m\u001b[1;33m\u001b[0m\u001b[0m\n\u001b[0m\u001b[0;32m      4\u001b[0m \u001b[0mprint\u001b[0m\u001b[1;33m(\u001b[0m\u001b[0mc\u001b[0m\u001b[1;33m)\u001b[0m\u001b[1;33m\u001b[0m\u001b[1;33m\u001b[0m\u001b[0m\n",
      "\u001b[1;31mZeroDivisionError\u001b[0m: division by zero"
     ]
    }
   ],
   "source": [
    "a=9\n",
    "b=0\n",
    "c= a/b # this will give error as b assigned 0 value\n",
    "print(c)"
   ]
  },
  {
   "cell_type": "code",
   "execution_count": 5,
   "id": "f259230e",
   "metadata": {},
   "outputs": [
    {
     "name": "stdout",
     "output_type": "stream",
     "text": [
      "an exception occurred\n"
     ]
    }
   ],
   "source": [
    "# to handle an exceptional value, use try- except clause\n",
    "a=9\n",
    "b=0\n",
    "try:\n",
    "    c= a/b\n",
    "    print(c)\n",
    "except:\n",
    "    print(\"an exception occurred\")"
   ]
  },
  {
   "cell_type": "code",
   "execution_count": 4,
   "id": "73ed9be6",
   "metadata": {},
   "outputs": [
    {
     "name": "stdout",
     "output_type": "stream",
     "text": [
      "Enter a:4\n",
      "Enter b:0\n",
      "Something happened with the code\n",
      " Out of the try-except clause\n"
     ]
    }
   ],
   "source": [
    "# try-except when values are taken from user\n",
    "a=int(input(\"Enter a:\"))\n",
    "b=int(input(\"Enter b:\"))\n",
    "try:\n",
    "    c=a/b\n",
    "except:\n",
    "    print(\"Something happened with the code\")\n",
    "print(\" Out of the try-except clause\")"
   ]
  },
  {
   "cell_type": "code",
   "execution_count": 9,
   "id": "ed0c1b66",
   "metadata": {},
   "outputs": [
    {
     "name": "stdout",
     "output_type": "stream",
     "text": [
      "Enter a positive integer: -5\n"
     ]
    },
    {
     "ename": "ValueError",
     "evalue": "That is not a positive number!",
     "output_type": "error",
     "traceback": [
      "\u001b[1;31m---------------------------------------------------------------------------\u001b[0m",
      "\u001b[1;31mValueError\u001b[0m                                Traceback (most recent call last)",
      "\u001b[1;32m<ipython-input-9-46b9c1f083e1>\u001b[0m in \u001b[0;36m<module>\u001b[1;34m\u001b[0m\n\u001b[0;32m      2\u001b[0m     \u001b[0ma\u001b[0m \u001b[1;33m=\u001b[0m \u001b[0mint\u001b[0m\u001b[1;33m(\u001b[0m\u001b[0minput\u001b[0m\u001b[1;33m(\u001b[0m\u001b[1;34m\"Enter a positive integer: \"\u001b[0m\u001b[1;33m)\u001b[0m\u001b[1;33m)\u001b[0m\u001b[1;33m\u001b[0m\u001b[1;33m\u001b[0m\u001b[0m\n\u001b[0;32m      3\u001b[0m     \u001b[1;32mif\u001b[0m \u001b[0ma\u001b[0m \u001b[1;33m<=\u001b[0m \u001b[1;36m0\u001b[0m\u001b[1;33m:\u001b[0m\u001b[1;33m\u001b[0m\u001b[1;33m\u001b[0m\u001b[0m\n\u001b[1;32m----> 4\u001b[1;33m         \u001b[1;32mraise\u001b[0m \u001b[0mValueError\u001b[0m\u001b[1;33m(\u001b[0m\u001b[1;34m\"That is not a positive number!\"\u001b[0m\u001b[1;33m)\u001b[0m\u001b[1;33m\u001b[0m\u001b[1;33m\u001b[0m\u001b[0m\n\u001b[0m\u001b[0;32m      5\u001b[0m \u001b[1;32mexcept\u001b[0m \u001b[0mZeroDivisionError\u001b[0m \u001b[1;32mas\u001b[0m \u001b[0mve\u001b[0m\u001b[1;33m:\u001b[0m\u001b[1;33m\u001b[0m\u001b[1;33m\u001b[0m\u001b[0m\n\u001b[0;32m      6\u001b[0m     \u001b[0mprint\u001b[0m\u001b[1;33m(\u001b[0m\u001b[0mve\u001b[0m\u001b[1;33m)\u001b[0m\u001b[1;33m\u001b[0m\u001b[1;33m\u001b[0m\u001b[0m\n",
      "\u001b[1;31mValueError\u001b[0m: That is not a positive number!"
     ]
    }
   ],
   "source": [
    "# Handling a specific single exception\n",
    "try:\n",
    "    a = int(input(\"Enter a positive integer: \"))\n",
    "    if a <= 0:\n",
    "        raise ValueError(\"That is not a positive number!\")\n",
    "except ZeroDivisionError as ve:\n",
    "    print(ve)\n"
   ]
  },
  {
   "cell_type": "code",
   "execution_count": 10,
   "id": "6d2e4aff",
   "metadata": {},
   "outputs": [
    {
     "ename": "SyntaxError",
     "evalue": "invalid syntax (<ipython-input-10-08f081e990bb>, line 1)",
     "output_type": "error",
     "traceback": [
      "\u001b[1;36m  File \u001b[1;32m\"<ipython-input-10-08f081e990bb>\"\u001b[1;36m, line \u001b[1;32m1\u001b[0m\n\u001b[1;33m    if x = 0: # = should be ==\u001b[0m\n\u001b[1;37m         ^\u001b[0m\n\u001b[1;31mSyntaxError\u001b[0m\u001b[1;31m:\u001b[0m invalid syntax\n"
     ]
    }
   ],
   "source": [
    "if x = 0: # = should be == A syntax error\n",
    "  print('x is 0')"
   ]
  },
  {
   "cell_type": "code",
   "execution_count": 11,
   "id": "ebf3d6bd",
   "metadata": {},
   "outputs": [
    {
     "ename": "ValueError",
     "evalue": "invalid literal for int() with base 10: 'hi'",
     "output_type": "error",
     "traceback": [
      "\u001b[1;31m---------------------------------------------------------------------------\u001b[0m",
      "\u001b[1;31mValueError\u001b[0m                                Traceback (most recent call last)",
      "\u001b[1;32m<ipython-input-11-60ef8c0e02f5>\u001b[0m in \u001b[0;36m<module>\u001b[1;34m\u001b[0m\n\u001b[0;32m      1\u001b[0m \u001b[0mstr1\u001b[0m\u001b[1;33m=\u001b[0m\u001b[1;34m\"hi\"\u001b[0m\u001b[1;33m\u001b[0m\u001b[1;33m\u001b[0m\u001b[0m\n\u001b[1;32m----> 2\u001b[1;33m \u001b[0mi\u001b[0m\u001b[1;33m=\u001b[0m\u001b[0mint\u001b[0m\u001b[1;33m(\u001b[0m\u001b[0mstr1\u001b[0m\u001b[1;33m)\u001b[0m\u001b[1;33m\u001b[0m\u001b[1;33m\u001b[0m\u001b[0m\n\u001b[0m",
      "\u001b[1;31mValueError\u001b[0m: invalid literal for int() with base 10: 'hi'"
     ]
    }
   ],
   "source": [
    "# Value Error\n",
    "str1=\"hi\"\n",
    "i=int(str1)"
   ]
  },
  {
   "cell_type": "code",
   "execution_count": 6,
   "id": "5f6407b6",
   "metadata": {},
   "outputs": [
    {
     "data": {
      "text/plain": [
       "4"
      ]
     },
     "execution_count": 6,
     "metadata": {},
     "output_type": "execute_result"
    }
   ],
   "source": [
    "a= int('4')\n",
    "a"
   ]
  },
  {
   "cell_type": "code",
   "execution_count": 7,
   "id": "fc84e78e",
   "metadata": {},
   "outputs": [
    {
     "ename": "TypeError",
     "evalue": "int() argument must be a string, a bytes-like object or a number, not 'list'",
     "output_type": "error",
     "traceback": [
      "\u001b[1;31m---------------------------------------------------------------------------\u001b[0m",
      "\u001b[1;31mTypeError\u001b[0m                                 Traceback (most recent call last)",
      "\u001b[1;32m<ipython-input-7-cf6008019550>\u001b[0m in \u001b[0;36m<module>\u001b[1;34m\u001b[0m\n\u001b[0;32m      1\u001b[0m \u001b[1;31m# example of type error\u001b[0m\u001b[1;33m\u001b[0m\u001b[1;33m\u001b[0m\u001b[1;33m\u001b[0m\u001b[0m\n\u001b[1;32m----> 2\u001b[1;33m \u001b[0ma\u001b[0m\u001b[1;33m=\u001b[0m \u001b[0mint\u001b[0m\u001b[1;33m(\u001b[0m\u001b[1;33m[\u001b[0m\u001b[1;34m'4'\u001b[0m\u001b[1;33m]\u001b[0m\u001b[1;33m)\u001b[0m\u001b[1;33m\u001b[0m\u001b[1;33m\u001b[0m\u001b[0m\n\u001b[0m\u001b[0;32m      3\u001b[0m \u001b[0ma\u001b[0m\u001b[1;33m\u001b[0m\u001b[1;33m\u001b[0m\u001b[0m\n",
      "\u001b[1;31mTypeError\u001b[0m: int() argument must be a string, a bytes-like object or a number, not 'list'"
     ]
    }
   ],
   "source": [
    "# example of type error\n",
    "a= int(['4'])\n",
    "a"
   ]
  },
  {
   "cell_type": "code",
   "execution_count": 8,
   "id": "f779b5c4",
   "metadata": {},
   "outputs": [
    {
     "ename": "ValueError",
     "evalue": "invalid literal for int() with base 10: '4.5'",
     "output_type": "error",
     "traceback": [
      "\u001b[1;31m---------------------------------------------------------------------------\u001b[0m",
      "\u001b[1;31mValueError\u001b[0m                                Traceback (most recent call last)",
      "\u001b[1;32m<ipython-input-8-f20267d4a6fe>\u001b[0m in \u001b[0;36m<module>\u001b[1;34m\u001b[0m\n\u001b[0;32m      1\u001b[0m \u001b[1;31m# example of value error\u001b[0m\u001b[1;33m\u001b[0m\u001b[1;33m\u001b[0m\u001b[1;33m\u001b[0m\u001b[0m\n\u001b[1;32m----> 2\u001b[1;33m \u001b[0ma\u001b[0m\u001b[1;33m=\u001b[0m \u001b[0mint\u001b[0m\u001b[1;33m(\u001b[0m\u001b[1;34m'4.5'\u001b[0m\u001b[1;33m)\u001b[0m\u001b[1;33m\u001b[0m\u001b[1;33m\u001b[0m\u001b[0m\n\u001b[0m\u001b[0;32m      3\u001b[0m \u001b[0ma\u001b[0m\u001b[1;33m\u001b[0m\u001b[1;33m\u001b[0m\u001b[0m\n",
      "\u001b[1;31mValueError\u001b[0m: invalid literal for int() with base 10: '4.5'"
     ]
    }
   ],
   "source": [
    "# example of value error\n",
    "a= int('4.5')\n",
    "a"
   ]
  },
  {
   "cell_type": "code",
   "execution_count": 9,
   "id": "f99ac0f5",
   "metadata": {},
   "outputs": [
    {
     "name": "stdout",
     "output_type": "stream",
     "text": [
      "index is outofbound: list index out of range\n",
      "Good\n"
     ]
    }
   ],
   "source": [
    "# index error\n",
    "a=[1,3,4]\n",
    "try:\n",
    "  print(a[4])  \n",
    "  print(\"Hi\")\n",
    "except IndexError as ie:\n",
    "  print(\"index is outofbound:\",ie)\n",
    "finally:\n",
    "   print(\"Good\") \n"
   ]
  },
  {
   "cell_type": "code",
   "execution_count": 11,
   "id": "dbe32620",
   "metadata": {},
   "outputs": [
    {
     "name": "stdout",
     "output_type": "stream",
     "text": [
      "Name Error: name 'z' is not defined\n",
      "The 'try except' is finished\n"
     ]
    }
   ],
   "source": [
    "try:\n",
    "  print(z)\n",
    "except NameError as ne:\n",
    "  print(\"Name Error:\", ne)\n",
    "except:\n",
    "  print(\"Something went wrong\")\n",
    "finally:\n",
    "  print(\"The 'try except' is finished\")"
   ]
  },
  {
   "cell_type": "code",
   "execution_count": 12,
   "id": "97674f9a",
   "metadata": {},
   "outputs": [
    {
     "name": "stdout",
     "output_type": "stream",
     "text": [
      "Returned from the finally clause!\n"
     ]
    }
   ],
   "source": [
    "def func():\n",
    "    try:\n",
    "        return \"Returned from the try clause!\"\n",
    "    finally:\n",
    "        return \"Returned from the finally clause!\"\n",
    "\n",
    "print(func())"
   ]
  },
  {
   "cell_type": "code",
   "execution_count": null,
   "id": "868c3e27",
   "metadata": {},
   "outputs": [],
   "source": [
    "# raise an exception and handle it\n",
    "# check if user have entered correct age of voting\n",
    "age = int(input(\"Enter age to vote\"))\n",
    "if age<18:\n",
    "    raise ValueError(\"age is less than 18: You can not vote\")\n",
    "else:\n",
    "    print(\" Go ahead and vote\")"
   ]
  },
  {
   "cell_type": "markdown",
   "id": "af136139",
   "metadata": {},
   "source": [
    "Create a short program that prompts the user for a list of grades separated \n",
    "by commas. \n",
    "Split the string into individual grades and \n",
    "use a list comprehension to convert each string to an integer. \n",
    "You should use a try statement to inform the user when the values \n",
    "they entered cannot be converted."
   ]
  },
  {
   "cell_type": "code",
   "execution_count": 14,
   "id": "768894fb",
   "metadata": {},
   "outputs": [
    {
     "name": "stdout",
     "output_type": "stream",
     "text": [
      "Please enter your grades, separated by commas: 23,45  ,56\n",
      "[23, 45, 56]\n"
     ]
    }
   ],
   "source": [
    "grades = input(\"Please enter your grades, separated by commas: \").split(\",\")\n",
    "\n",
    "try:\n",
    "    grades = [int(grade) for grade in grades]\n",
    "    print(grades)\n",
    "except ValueError:\n",
    "    print(\"The grades you entered were in an invalid format.\")"
   ]
  },
  {
   "cell_type": "code",
   "execution_count": 16,
   "id": "cc99bdd2",
   "metadata": {},
   "outputs": [
    {
     "name": "stdout",
     "output_type": "stream",
     "text": [
      "Enter a positive integer: 0\n",
      "division by zero\n",
      "Rest will keep executing\n"
     ]
    }
   ],
   "source": [
    "try:\n",
    "    a = int(input(\"Enter a positive integer: \"))\n",
    "    if a == 0:\n",
    "        print(5/a)\n",
    "except ZeroDivisionError as ve:\n",
    "    print(ve)\n",
    "print(\"Rest will keep executing\")"
   ]
  },
  {
   "cell_type": "code",
   "execution_count": 17,
   "id": "72bca621",
   "metadata": {},
   "outputs": [
    {
     "name": "stdout",
     "output_type": "stream",
     "text": [
      "Enter a positive integer: 0\n"
     ]
    },
    {
     "ename": "ZeroDivisionError",
     "evalue": "division by zero",
     "output_type": "error",
     "traceback": [
      "\u001b[1;31m---------------------------------------------------------------------------\u001b[0m",
      "\u001b[1;31mZeroDivisionError\u001b[0m                         Traceback (most recent call last)",
      "\u001b[1;32m<ipython-input-17-8020fda24cad>\u001b[0m in \u001b[0;36m<module>\u001b[1;34m\u001b[0m\n\u001b[0;32m      2\u001b[0m     \u001b[0ma\u001b[0m \u001b[1;33m=\u001b[0m \u001b[0mint\u001b[0m\u001b[1;33m(\u001b[0m\u001b[0minput\u001b[0m\u001b[1;33m(\u001b[0m\u001b[1;34m\"Enter a positive integer: \"\u001b[0m\u001b[1;33m)\u001b[0m\u001b[1;33m)\u001b[0m\u001b[1;33m\u001b[0m\u001b[1;33m\u001b[0m\u001b[0m\n\u001b[0;32m      3\u001b[0m     \u001b[1;32mif\u001b[0m \u001b[0ma\u001b[0m \u001b[1;33m==\u001b[0m \u001b[1;36m0\u001b[0m\u001b[1;33m:\u001b[0m\u001b[1;33m\u001b[0m\u001b[1;33m\u001b[0m\u001b[0m\n\u001b[1;32m----> 4\u001b[1;33m         \u001b[0mprint\u001b[0m\u001b[1;33m(\u001b[0m\u001b[1;36m5\u001b[0m\u001b[1;33m/\u001b[0m\u001b[0ma\u001b[0m\u001b[1;33m)\u001b[0m\u001b[1;33m\u001b[0m\u001b[1;33m\u001b[0m\u001b[0m\n\u001b[0m\u001b[0;32m      5\u001b[0m \u001b[1;32mexcept\u001b[0m \u001b[0mValueError\u001b[0m \u001b[1;32mas\u001b[0m \u001b[0mve\u001b[0m\u001b[1;33m:\u001b[0m\u001b[1;33m\u001b[0m\u001b[1;33m\u001b[0m\u001b[0m\n\u001b[0;32m      6\u001b[0m     \u001b[0mprint\u001b[0m\u001b[1;33m(\u001b[0m\u001b[0mve\u001b[0m\u001b[1;33m)\u001b[0m\u001b[1;33m\u001b[0m\u001b[1;33m\u001b[0m\u001b[0m\n",
      "\u001b[1;31mZeroDivisionError\u001b[0m: division by zero"
     ]
    }
   ],
   "source": [
    "try:\n",
    "    a = int(input(\"Enter a positive integer: \"))\n",
    "    if a == 0:\n",
    "        print(5/a)\n",
    "except ValueError as ve:\n",
    "    print(ve)\n",
    "print(\"Rest will keep executing\")"
   ]
  },
  {
   "cell_type": "code",
   "execution_count": 3,
   "id": "8d1785d9",
   "metadata": {},
   "outputs": [
    {
     "name": "stdout",
     "output_type": "stream",
     "text": [
      "Enter value of a:3\n",
      "Enter value of b:0\n",
      "Please enter a valid value:- division by zero\n"
     ]
    }
   ],
   "source": [
    "# handling multiple exceptions with one except\n",
    "try:\n",
    "    a = int(input(\"Enter value of a:\"))\n",
    "    b = int(input(\"Enter value of b:\"))\n",
    "    c = a / b\n",
    "    print(\"The answer of a divide by b:\", c)\n",
    "except(ValueError, ZeroDivisionError) as e1:\n",
    "    print(\"Please enter a valid value:-\",e1)"
   ]
  },
  {
   "cell_type": "code",
   "execution_count": 5,
   "id": "b92b6b49",
   "metadata": {},
   "outputs": [
    {
     "name": "stdout",
     "output_type": "stream",
     "text": [
      "Enter a positive integer: 0\n",
      "division by zero\n",
      "Rest will keep executing\n"
     ]
    }
   ],
   "source": [
    "# handling multiple exceptions with multiple except\n",
    "try:\n",
    "    a = int(input(\"Enter a positive integer: \"))\n",
    "    if a == 0:\n",
    "        print(5/a)\n",
    "except ValueError as ve:\n",
    "    print(ve)\n",
    "except ZeroDivisionError as ze:\n",
    "    print(ze)\n",
    "print(\"Rest will keep executing\")"
   ]
  },
  {
   "cell_type": "code",
   "execution_count": 6,
   "id": "0ee485f8",
   "metadata": {},
   "outputs": [],
   "source": [
    "st1=\"4 + 7\"\n",
    "l1=st1.split()"
   ]
  },
  {
   "cell_type": "code",
   "execution_count": 7,
   "id": "036f8b05",
   "metadata": {},
   "outputs": [
    {
     "data": {
      "text/plain": [
       "['4', '+', '7']"
      ]
     },
     "execution_count": 7,
     "metadata": {},
     "output_type": "execute_result"
    }
   ],
   "source": [
    "l1"
   ]
  },
  {
   "cell_type": "code",
   "execution_count": null,
   "id": "0794e6d6",
   "metadata": {},
   "outputs": [],
   "source": [
    "def compute(a,b):\n",
    "    print(\"exception can occur in a function also \")\n",
    "    return a/b\n",
    "\n",
    "try:\n",
    "    a = int(input(\"Enter value of a:\"))\n",
    "    b = int(input(\"Enter value of b:\"))\n",
    "    c = compute(a,b)\n",
    "    print(\"a/b = \", c)\n",
    "except ZeroDivisionError:\n",
    "    print(\"Can't divide by zero\")\n",
    "else:\n",
    "    print(\"We are in else block--> NO EXCEPTION happened\")"
   ]
  },
  {
   "cell_type": "code",
   "execution_count": null,
   "id": "1a93e79c",
   "metadata": {},
   "outputs": [],
   "source": [
    "def compute(a,b):\n",
    "    print(\"exception can occur in a function also \")\n",
    "    try:\n",
    "        return a/b\n",
    "    except ZeroDivisionError:\n",
    "        print(\"Can't divide by zero\")\n",
    "        return \"can not divide\"\n",
    "    else:\n",
    "        print(\"Not reachable code-We are in else block--> NO EXCEPTION happened\")\n",
    "        \n",
    "\n",
    "a = int(input(\"Enter value of a:\"))\n",
    "b = int(input(\"Enter value of b:\"))\n",
    "c = compute(a,b)\n",
    "print(\"a/b = \", c)\n",
    "    "
   ]
  },
  {
   "cell_type": "code",
   "execution_count": 3,
   "id": "4ec001d6",
   "metadata": {},
   "outputs": [
    {
     "name": "stdout",
     "output_type": "stream",
     "text": [
      "Enter number to get factorial:-1\n",
      "Exception: maximum recursion depth exceeded in comparison\n",
      "Factorial of -1 is 24\n"
     ]
    }
   ],
   "source": [
    "# Create a recursive factorial function. and call the function with value -1\n",
    "def fact(n):\n",
    "    if n==0:\n",
    "        return 1\n",
    "    else:\n",
    "        return n*fact(n-1)\n",
    "    \n",
    "num = int(input(\"Enter number to get factorial:\"))\n",
    "try:\n",
    "    res= fact(num)\n",
    "except RecursionError as ve:\n",
    "    print(\"Exception:\", ve)\n",
    "except:\n",
    "    print(\"Exception\")\n",
    "    \n",
    "print(f\"Factorial of {num} is {res}\")"
   ]
  },
  {
   "cell_type": "code",
   "execution_count": 4,
   "id": "8d3b3125",
   "metadata": {},
   "outputs": [
    {
     "name": "stdout",
     "output_type": "stream",
     "text": [
      "Enter number to get factorial:-1\n",
      "Exception:\n",
      "Factorial of -1 is \n"
     ]
    }
   ],
   "source": [
    "# handling exception within the function\n",
    "import sys\n",
    "def fact(n):\n",
    "    if n==0:\n",
    "        return 1\n",
    "    else:\n",
    "        try:\n",
    "            return n*fact(n-1)\n",
    "        except:\n",
    "            print(\"Exception:\")\n",
    "            return \"No factorial possible\"\n",
    "    \n",
    "\n",
    "    \n",
    "num = int(input(\"Enter number to get factorial:\"))\n",
    "res= fact(num)\n",
    "print(f\"Factorial of {num} is {res}\")"
   ]
  },
  {
   "cell_type": "code",
   "execution_count": 5,
   "id": "14641745",
   "metadata": {},
   "outputs": [
    {
     "ename": "ValueError",
     "evalue": " You entered negative number",
     "output_type": "error",
     "traceback": [
      "\u001b[1;31m---------------------------------------------------------------------------\u001b[0m",
      "\u001b[1;31mValueError\u001b[0m                                Traceback (most recent call last)",
      "\u001b[1;32m<ipython-input-5-102ddfeb8c07>\u001b[0m in \u001b[0;36m<module>\u001b[1;34m\u001b[0m\n\u001b[0;32m      2\u001b[0m \u001b[0mn\u001b[0m\u001b[1;33m=\u001b[0m\u001b[1;33m-\u001b[0m\u001b[1;36m5\u001b[0m\u001b[1;33m\u001b[0m\u001b[1;33m\u001b[0m\u001b[0m\n\u001b[0;32m      3\u001b[0m \u001b[1;32mif\u001b[0m \u001b[0mn\u001b[0m\u001b[1;33m<\u001b[0m\u001b[1;36m0\u001b[0m\u001b[1;33m:\u001b[0m\u001b[1;33m\u001b[0m\u001b[1;33m\u001b[0m\u001b[0m\n\u001b[1;32m----> 4\u001b[1;33m     \u001b[1;32mraise\u001b[0m \u001b[0mValueError\u001b[0m\u001b[1;33m(\u001b[0m\u001b[1;34m\" You entered negative number\"\u001b[0m\u001b[1;33m)\u001b[0m\u001b[1;33m\u001b[0m\u001b[1;33m\u001b[0m\u001b[0m\n\u001b[0m",
      "\u001b[1;31mValueError\u001b[0m:  You entered negative number"
     ]
    }
   ],
   "source": [
    "# raise exceptions with arguments\n",
    "n=-5\n",
    "if n<0:\n",
    "    raise ValueError(\" You entered negative number\")"
   ]
  },
  {
   "cell_type": "code",
   "execution_count": null,
   "id": "313b2b69",
   "metadata": {},
   "outputs": [],
   "source": [
    "n=-5\n",
    "try:\n",
    "    if n<0:\n",
    "        raise ValueError(\" You entered negative number\")\n",
    "    res=fact(n)\n",
    "    print(res)\n",
    "except ValueError as ve:\n",
    "    print(ve)\n",
    "\n",
    "print(\"I am not calling fact function\")"
   ]
  },
  {
   "cell_type": "code",
   "execution_count": 6,
   "id": "d304a5d6",
   "metadata": {},
   "outputs": [
    {
     "name": "stdout",
     "output_type": "stream",
     "text": [
      "Enter age to Vote:8\n",
      "Your age is : 8.0 To vote your age should be 18 and more\n"
     ]
    }
   ],
   "source": [
    "age= float(input(\"Enter age to Vote:\"))\n",
    "try:\n",
    "    if age <18.0:\n",
    "        raise ValueError(\"To vote your age should be 18 or  more\")\n",
    "    else:\n",
    "        print(\"You can vote\")\n",
    "except ValueError as ve:\n",
    "    print(\"Your age is :\",age,ve)"
   ]
  },
  {
   "cell_type": "code",
   "execution_count": 8,
   "id": "e28e2b73",
   "metadata": {},
   "outputs": [
    {
     "name": "stdout",
     "output_type": "stream",
     "text": [
      "Enter age to Vote:12\n",
      "Your age is : 12.0 To vote your age should be 18 or  more\n"
     ]
    }
   ],
   "source": [
    "# creating your Exception:\n",
    "class AgeException(Exception):\n",
    "    pass\n",
    "\n",
    "age= float(input(\"Enter age to Vote:\"))\n",
    "try:\n",
    "    if age <18.0:\n",
    "        raise AgeException(\"To vote your age should be 18 or  more\")\n",
    "    else:\n",
    "        print(\"You can vote\")\n",
    "except AgeException as ae:\n",
    "    print(\"Your age is :\",age,ae)"
   ]
  },
  {
   "cell_type": "code",
   "execution_count": 10,
   "id": "a6b7a42c",
   "metadata": {},
   "outputs": [
    {
     "name": "stdout",
     "output_type": "stream",
     "text": [
      "Enter age: -87\n"
     ]
    },
    {
     "ename": "NegativeAgeError",
     "evalue": "-87",
     "output_type": "error",
     "traceback": [
      "\u001b[1;31m---------------------------------------------------------------------------\u001b[0m",
      "\u001b[1;31mNegativeAgeError\u001b[0m                          Traceback (most recent call last)",
      "\u001b[1;32m<ipython-input-10-6b232a60d91c>\u001b[0m in \u001b[0;36m<module>\u001b[1;34m\u001b[0m\n\u001b[0;32m      8\u001b[0m \u001b[0mage\u001b[0m \u001b[1;33m=\u001b[0m \u001b[0mint\u001b[0m\u001b[1;33m(\u001b[0m\u001b[0minput\u001b[0m\u001b[1;33m(\u001b[0m\u001b[1;34m\"Enter age: \"\u001b[0m\u001b[1;33m)\u001b[0m\u001b[1;33m)\u001b[0m\u001b[1;33m\u001b[0m\u001b[1;33m\u001b[0m\u001b[0m\n\u001b[0;32m      9\u001b[0m \u001b[1;32mif\u001b[0m \u001b[0mage\u001b[0m \u001b[1;33m<\u001b[0m \u001b[1;36m0\u001b[0m\u001b[1;33m:\u001b[0m\u001b[1;33m\u001b[0m\u001b[1;33m\u001b[0m\u001b[0m\n\u001b[1;32m---> 10\u001b[1;33m     \u001b[1;32mraise\u001b[0m \u001b[0mNegativeAgeError\u001b[0m\u001b[1;33m(\u001b[0m\u001b[0mage\u001b[0m\u001b[1;33m)\u001b[0m\u001b[1;33m\u001b[0m\u001b[1;33m\u001b[0m\u001b[0m\n\u001b[0m",
      "\u001b[1;31mNegativeAgeError\u001b[0m: -87"
     ]
    }
   ],
   "source": [
    "class NegativeAgeError(Exception):\n",
    "\n",
    "    def __init__(self, age, ):\n",
    "        message = \"Age should not be negative\"\n",
    "        self.age = age\n",
    "        self.message = message\n",
    "\n",
    "age = int(input(\"Enter age: \"))\n",
    "\n",
    "if age < 0:\n",
    "    raise NegativeAgeError(age)"
   ]
  },
  {
   "cell_type": "code",
   "execution_count": 15,
   "id": "98f03d9b",
   "metadata": {},
   "outputs": [
    {
     "name": "stdout",
     "output_type": "stream",
     "text": [
      "Enter age: -9\n",
      "-9---->Age should not be negative\n"
     ]
    }
   ],
   "source": [
    "class NegativeAgeError(Exception):\n",
    "\n",
    "    def __init__(self, age, ):\n",
    "        message = \"Age should not be negative\"\n",
    "        self.age = age\n",
    "        self.message = message\n",
    "    def __str__(self):\n",
    "        return f\"{self.age}---->{self.message}\"\n",
    "    \n",
    "age = int(input(\"Enter age: \"))\n",
    "try:\n",
    "    if age < 0:\n",
    "        raise NegativeAgeError(age)\n",
    "    print(\"You entered:\", age)\n",
    "except NegativeAgeError as nae:\n",
    "    print(nae)"
   ]
  },
  {
   "cell_type": "code",
   "execution_count": 16,
   "id": "2d716c64",
   "metadata": {},
   "outputs": [
    {
     "name": "stdout",
     "output_type": "stream",
     "text": [
      "Case 1\n",
      "The Simple Interest is 384.0\n",
      "Case 2\n",
      "interest rate is out of range 800\n"
     ]
    }
   ],
   "source": [
    "def simple_interest(amount, year, rate):\n",
    "    try:\n",
    "        if rate > 100:\n",
    "            raise ValueError(rate)\n",
    "        interest = (amount * year * rate) / 100\n",
    "        print('The Simple Interest is', interest)\n",
    "        return interest\n",
    "    except ValueError:\n",
    "        print('interest rate is out of range', rate)\n",
    "\n",
    "print('Case 1')\n",
    "simple_interest(800, 6, 8)\n",
    "\n",
    "print('Case 2')\n",
    "simple_interest(800, 6, 800)\n"
   ]
  },
  {
   "cell_type": "code",
   "execution_count": 1,
   "id": "a78f7d25",
   "metadata": {},
   "outputs": [
    {
     "ename": "AssertionError",
     "evalue": "x should say Hello World",
     "output_type": "error",
     "traceback": [
      "\u001b[1;31m---------------------------------------------------------------------------\u001b[0m",
      "\u001b[1;31mAssertionError\u001b[0m                            Traceback (most recent call last)",
      "\u001b[1;32m<ipython-input-1-c66febd48714>\u001b[0m in \u001b[0;36m<module>\u001b[1;34m\u001b[0m\n\u001b[0;32m      4\u001b[0m \u001b[0mx\u001b[0m\u001b[1;33m=\u001b[0m \u001b[1;34m\" hello World\"\u001b[0m\u001b[1;33m\u001b[0m\u001b[1;33m\u001b[0m\u001b[0m\n\u001b[0;32m      5\u001b[0m \u001b[1;31m# syntax assert condition/expression message\u001b[0m\u001b[1;33m\u001b[0m\u001b[1;33m\u001b[0m\u001b[1;33m\u001b[0m\u001b[0m\n\u001b[1;32m----> 6\u001b[1;33m \u001b[1;32massert\u001b[0m \u001b[0mx\u001b[0m\u001b[1;33m==\u001b[0m\u001b[1;34m\"Hello\"\u001b[0m\u001b[1;33m,\u001b[0m \u001b[1;34m\"x should say Hello World\"\u001b[0m\u001b[1;33m\u001b[0m\u001b[1;33m\u001b[0m\u001b[0m\n\u001b[0m",
      "\u001b[1;31mAssertionError\u001b[0m: x should say Hello World"
     ]
    }
   ],
   "source": [
    "# Assertions\n",
    "#Assert=> checking or testing the program\n",
    "\n",
    "x= \" hello World\"\n",
    "# syntax assert condition/expression message\n",
    "assert x==\"Hello\", \"x should say Hello World\""
   ]
  },
  {
   "cell_type": "code",
   "execution_count": null,
   "id": "ca2e5395",
   "metadata": {},
   "outputs": [],
   "source": []
  }
 ],
 "metadata": {
  "kernelspec": {
   "display_name": "Python 3",
   "language": "python",
   "name": "python3"
  },
  "language_info": {
   "codemirror_mode": {
    "name": "ipython",
    "version": 3
   },
   "file_extension": ".py",
   "mimetype": "text/x-python",
   "name": "python",
   "nbconvert_exporter": "python",
   "pygments_lexer": "ipython3",
   "version": "3.8.8"
  }
 },
 "nbformat": 4,
 "nbformat_minor": 5
}
