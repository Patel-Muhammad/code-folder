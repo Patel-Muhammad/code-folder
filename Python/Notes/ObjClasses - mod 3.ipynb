{
 "cells": [
  {
   "cell_type": "code",
   "execution_count": 5,
   "id": "111e618a",
   "metadata": {},
   "outputs": [],
   "source": [
    "class Firstclass:\n",
    "    pass"
   ]
  },
  {
   "cell_type": "code",
   "execution_count": 7,
   "id": "0f9284b2",
   "metadata": {},
   "outputs": [],
   "source": [
    "f1= Firstclass()"
   ]
  },
  {
   "cell_type": "code",
   "execution_count": 8,
   "id": "b9980ee8",
   "metadata": {},
   "outputs": [
    {
     "data": {
      "text/plain": [
       "['__class__',\n",
       " '__delattr__',\n",
       " '__dict__',\n",
       " '__dir__',\n",
       " '__doc__',\n",
       " '__eq__',\n",
       " '__format__',\n",
       " '__ge__',\n",
       " '__getattribute__',\n",
       " '__gt__',\n",
       " '__hash__',\n",
       " '__init__',\n",
       " '__init_subclass__',\n",
       " '__le__',\n",
       " '__lt__',\n",
       " '__module__',\n",
       " '__ne__',\n",
       " '__new__',\n",
       " '__reduce__',\n",
       " '__reduce_ex__',\n",
       " '__repr__',\n",
       " '__setattr__',\n",
       " '__sizeof__',\n",
       " '__str__',\n",
       " '__subclasshook__',\n",
       " '__weakref__']"
      ]
     },
     "execution_count": 8,
     "metadata": {},
     "output_type": "execute_result"
    }
   ],
   "source": [
    "dir(f1)"
   ]
  },
  {
   "cell_type": "code",
   "execution_count": 1,
   "id": "991c1803",
   "metadata": {},
   "outputs": [],
   "source": [
    "# defining __init__ to initialize the name and age instance variablea\n",
    "class Person:\n",
    "    x=0\n",
    "    def __init__(self, n, a):\n",
    "        self.name=n\n",
    "        self.age=a"
   ]
  },
  {
   "cell_type": "code",
   "execution_count": 2,
   "id": "46542b6d",
   "metadata": {},
   "outputs": [],
   "source": [
    "# Creating object using constructor that calls the __init__ method\n",
    "p1=Person(\"Joe\",56)"
   ]
  },
  {
   "cell_type": "code",
   "execution_count": 3,
   "id": "1b250351",
   "metadata": {},
   "outputs": [
    {
     "data": {
      "text/plain": [
       "'Joe'"
      ]
     },
     "execution_count": 3,
     "metadata": {},
     "output_type": "execute_result"
    }
   ],
   "source": [
    "# accessing member variable using object variable and dot operator\n",
    "p1.name"
   ]
  },
  {
   "cell_type": "code",
   "execution_count": 4,
   "id": "365600d0",
   "metadata": {},
   "outputs": [],
   "source": [
    "# overriding __str__ method to display object details\n",
    "class Person:\n",
    "    x=0\n",
    "    def __init__(self, n, a):\n",
    "        self.name=n\n",
    "        self.age=a\n",
    "        Person.x=Person.x+1\n",
    "        print(\"x\",Person.x)\n",
    "        \n",
    "    def __str__(self):\n",
    "        return \"Inside str\""
   ]
  },
  {
   "cell_type": "code",
   "execution_count": 5,
   "id": "44d78e76",
   "metadata": {},
   "outputs": [
    {
     "name": "stdout",
     "output_type": "stream",
     "text": [
      "x 1\n",
      "x 2\n"
     ]
    }
   ],
   "source": [
    "p1=Person(\"Joe\",56)\n",
    "p2=Person(\"Je\",6)"
   ]
  },
  {
   "cell_type": "code",
   "execution_count": 20,
   "id": "54fbaaad",
   "metadata": {},
   "outputs": [
    {
     "name": "stdout",
     "output_type": "stream",
     "text": [
      "Inside str\n"
     ]
    }
   ],
   "source": [
    "p1=Person(\"Joe\",56)\n",
    "a=p1\n",
    "print(a)"
   ]
  },
  {
   "cell_type": "code",
   "execution_count": 8,
   "id": "383b7eda",
   "metadata": {},
   "outputs": [],
   "source": [
    "class Person:\n",
    "    x=0\n",
    "    def __init__(self, n, a):\n",
    "        self.name=n\n",
    "        self.age=a\n",
    "        self.x=self.x+1\n",
    "        \n",
    "p1=Person(\"Joe\",56)\n",
    "p2=Person(\"Mel\",67)\n"
   ]
  },
  {
   "cell_type": "code",
   "execution_count": 15,
   "id": "a9ebd5e8",
   "metadata": {},
   "outputs": [],
   "source": [
    "# Class defined without __init__ method, default init method is called\n",
    "class Noinit:\n",
    "    x=0\n",
    "    ct=0\n",
    "    def setVal(self, n):\n",
    "        self.name=n\n",
    "        self.x=self.x+1\n",
    "        Noinit.ct= Noinit.ct+1\n",
    "        \n",
    "    def display(self):\n",
    "        print(f\" value of instance variabl x: {self.x}\")\n",
    "        print(f\" value of class variabl ct: {Noinit.ct}\")"
   ]
  },
  {
   "cell_type": "code",
   "execution_count": 18,
   "id": "fed4060f",
   "metadata": {},
   "outputs": [
    {
     "data": {
      "text/plain": [
       "['__add__',\n",
       " '__class__',\n",
       " '__contains__',\n",
       " '__delattr__',\n",
       " '__dir__',\n",
       " '__doc__',\n",
       " '__eq__',\n",
       " '__format__',\n",
       " '__ge__',\n",
       " '__getattribute__',\n",
       " '__getitem__',\n",
       " '__getnewargs__',\n",
       " '__gt__',\n",
       " '__hash__',\n",
       " '__init__',\n",
       " '__init_subclass__',\n",
       " '__iter__',\n",
       " '__le__',\n",
       " '__len__',\n",
       " '__lt__',\n",
       " '__mod__',\n",
       " '__mul__',\n",
       " '__ne__',\n",
       " '__new__',\n",
       " '__reduce__',\n",
       " '__reduce_ex__',\n",
       " '__repr__',\n",
       " '__rmod__',\n",
       " '__rmul__',\n",
       " '__setattr__',\n",
       " '__sizeof__',\n",
       " '__str__',\n",
       " '__subclasshook__',\n",
       " 'capitalize',\n",
       " 'casefold',\n",
       " 'center',\n",
       " 'count',\n",
       " 'encode',\n",
       " 'endswith',\n",
       " 'expandtabs',\n",
       " 'find',\n",
       " 'format',\n",
       " 'format_map',\n",
       " 'index',\n",
       " 'isalnum',\n",
       " 'isalpha',\n",
       " 'isascii',\n",
       " 'isdecimal',\n",
       " 'isdigit',\n",
       " 'isidentifier',\n",
       " 'islower',\n",
       " 'isnumeric',\n",
       " 'isprintable',\n",
       " 'isspace',\n",
       " 'istitle',\n",
       " 'isupper',\n",
       " 'join',\n",
       " 'ljust',\n",
       " 'lower',\n",
       " 'lstrip',\n",
       " 'maketrans',\n",
       " 'partition',\n",
       " 'replace',\n",
       " 'rfind',\n",
       " 'rindex',\n",
       " 'rjust',\n",
       " 'rpartition',\n",
       " 'rsplit',\n",
       " 'rstrip',\n",
       " 'split',\n",
       " 'splitlines',\n",
       " 'startswith',\n",
       " 'strip',\n",
       " 'swapcase',\n",
       " 'title',\n",
       " 'translate',\n",
       " 'upper',\n",
       " 'zfill']"
      ]
     },
     "execution_count": 18,
     "metadata": {},
     "output_type": "execute_result"
    }
   ],
   "source": [
    "st1=\"k\"\n",
    "dir(st1)"
   ]
  },
  {
   "cell_type": "code",
   "execution_count": 16,
   "id": "5e2a1fa6",
   "metadata": {},
   "outputs": [
    {
     "name": "stdout",
     "output_type": "stream",
     "text": [
      " value of instance variabl x: 1\n",
      " value of class variabl ct: 1\n"
     ]
    }
   ],
   "source": [
    "n1= Noinit()\n",
    "n1.setVal(\"harry\")\n",
    "n1. display()"
   ]
  },
  {
   "cell_type": "code",
   "execution_count": 17,
   "id": "7d0b2066",
   "metadata": {},
   "outputs": [
    {
     "name": "stdout",
     "output_type": "stream",
     "text": [
      " value of instance variabl x: 1\n",
      " value of class variabl ct: 2\n"
     ]
    }
   ],
   "source": [
    "n2= Noinit()\n",
    "n2.setVal(\"bel\")\n",
    "n2. display()"
   ]
  },
  {
   "cell_type": "code",
   "execution_count": 14,
   "id": "d521d8f3",
   "metadata": {},
   "outputs": [
    {
     "data": {
      "text/plain": [
       "'harry'"
      ]
     },
     "execution_count": 14,
     "metadata": {},
     "output_type": "execute_result"
    }
   ],
   "source": [
    "n1.name"
   ]
  },
  {
   "cell_type": "code",
   "execution_count": 10,
   "id": "4285d60c",
   "metadata": {},
   "outputs": [
    {
     "data": {
      "text/plain": [
       "__main__.Noinit"
      ]
     },
     "execution_count": 10,
     "metadata": {},
     "output_type": "execute_result"
    }
   ],
   "source": [
    "# data tpe of object- Class as a datatype\n",
    "type(n1)"
   ]
  },
  {
   "cell_type": "code",
   "execution_count": 12,
   "id": "62eef7cb",
   "metadata": {},
   "outputs": [
    {
     "name": "stdout",
     "output_type": "stream",
     "text": [
      "<__main__.Noinit object at 0x000002A3C90EF880>\n"
     ]
    }
   ],
   "source": [
    "print(n1)"
   ]
  },
  {
   "cell_type": "code",
   "execution_count": 11,
   "id": "574e41cd",
   "metadata": {},
   "outputs": [
    {
     "data": {
      "text/plain": [
       "['__class__',\n",
       " '__delattr__',\n",
       " '__dict__',\n",
       " '__dir__',\n",
       " '__doc__',\n",
       " '__eq__',\n",
       " '__format__',\n",
       " '__ge__',\n",
       " '__getattribute__',\n",
       " '__gt__',\n",
       " '__hash__',\n",
       " '__init__',\n",
       " '__init_subclass__',\n",
       " '__le__',\n",
       " '__lt__',\n",
       " '__module__',\n",
       " '__ne__',\n",
       " '__new__',\n",
       " '__reduce__',\n",
       " '__reduce_ex__',\n",
       " '__repr__',\n",
       " '__setattr__',\n",
       " '__sizeof__',\n",
       " '__str__',\n",
       " '__subclasshook__',\n",
       " '__weakref__',\n",
       " 'setVal']"
      ]
     },
     "execution_count": 11,
     "metadata": {},
     "output_type": "execute_result"
    }
   ],
   "source": [
    "#default and defined member varaibles and methods of a class\n",
    "dir(n1)"
   ]
  },
  {
   "cell_type": "code",
   "execution_count": 4,
   "id": "b87f4936",
   "metadata": {},
   "outputs": [
    {
     "name": "stdout",
     "output_type": "stream",
     "text": [
      "display Joe: 56\n",
      "val 1\n"
     ]
    }
   ],
   "source": [
    "# get method to retrieve values for an object\n",
    "class Person:\n",
    "    x=0\n",
    "    def __init__(self, n, a):\n",
    "        self.name=n\n",
    "        self.age=a\n",
    "        self.x=self.x+1\n",
    "        \n",
    "    def __str__(self):\n",
    "        return f\"{self.name}: {self.age}\"\n",
    "    \n",
    "    def display(self):\n",
    "        #print(\"your name is {} and age is {}\".format(self.name, self.age))\n",
    "        print(f\"display {self.name}: {self.age}\")\n",
    "        \n",
    "    def getx(self):\n",
    "        return self.x\n",
    "        \n",
    "        \n",
    "p1=Person(\"Joe\",56)\n",
    "p2=Person(\"Mel\",67)\n",
    "\n",
    "p1.display()\n",
    "xval= p1.getx()\n",
    "print(\"val\",xval)"
   ]
  },
  {
   "cell_type": "code",
   "execution_count": 4,
   "id": "711a36bb",
   "metadata": {},
   "outputs": [
    {
     "data": {
      "text/plain": [
       "__main__.Person"
      ]
     },
     "execution_count": 4,
     "metadata": {},
     "output_type": "execute_result"
    }
   ],
   "source": [
    "type(p1)"
   ]
  },
  {
   "cell_type": "code",
   "execution_count": 7,
   "id": "73b8adef",
   "metadata": {},
   "outputs": [
    {
     "data": {
      "text/plain": [
       "['__class__',\n",
       " '__delattr__',\n",
       " '__dict__',\n",
       " '__dir__',\n",
       " '__doc__',\n",
       " '__eq__',\n",
       " '__format__',\n",
       " '__ge__',\n",
       " '__getattribute__',\n",
       " '__gt__',\n",
       " '__hash__',\n",
       " '__init__',\n",
       " '__init_subclass__',\n",
       " '__le__',\n",
       " '__lt__',\n",
       " '__module__',\n",
       " '__ne__',\n",
       " '__new__',\n",
       " '__reduce__',\n",
       " '__reduce_ex__',\n",
       " '__repr__',\n",
       " '__setattr__',\n",
       " '__sizeof__',\n",
       " '__str__',\n",
       " '__subclasshook__',\n",
       " '__weakref__',\n",
       " 'age',\n",
       " 'display',\n",
       " 'name',\n",
       " 'x']"
      ]
     },
     "execution_count": 7,
     "metadata": {},
     "output_type": "execute_result"
    }
   ],
   "source": [
    "dir(p1)"
   ]
  },
  {
   "cell_type": "code",
   "execution_count": 8,
   "id": "d88433c6",
   "metadata": {},
   "outputs": [
    {
     "data": {
      "text/plain": [
       "['__add__',\n",
       " '__class__',\n",
       " '__contains__',\n",
       " '__delattr__',\n",
       " '__dir__',\n",
       " '__doc__',\n",
       " '__eq__',\n",
       " '__format__',\n",
       " '__ge__',\n",
       " '__getattribute__',\n",
       " '__getitem__',\n",
       " '__getnewargs__',\n",
       " '__gt__',\n",
       " '__hash__',\n",
       " '__init__',\n",
       " '__init_subclass__',\n",
       " '__iter__',\n",
       " '__le__',\n",
       " '__len__',\n",
       " '__lt__',\n",
       " '__mod__',\n",
       " '__mul__',\n",
       " '__ne__',\n",
       " '__new__',\n",
       " '__reduce__',\n",
       " '__reduce_ex__',\n",
       " '__repr__',\n",
       " '__rmod__',\n",
       " '__rmul__',\n",
       " '__setattr__',\n",
       " '__sizeof__',\n",
       " '__str__',\n",
       " '__subclasshook__',\n",
       " 'capitalize',\n",
       " 'casefold',\n",
       " 'center',\n",
       " 'count',\n",
       " 'encode',\n",
       " 'endswith',\n",
       " 'expandtabs',\n",
       " 'find',\n",
       " 'format',\n",
       " 'format_map',\n",
       " 'index',\n",
       " 'isalnum',\n",
       " 'isalpha',\n",
       " 'isascii',\n",
       " 'isdecimal',\n",
       " 'isdigit',\n",
       " 'isidentifier',\n",
       " 'islower',\n",
       " 'isnumeric',\n",
       " 'isprintable',\n",
       " 'isspace',\n",
       " 'istitle',\n",
       " 'isupper',\n",
       " 'join',\n",
       " 'ljust',\n",
       " 'lower',\n",
       " 'lstrip',\n",
       " 'maketrans',\n",
       " 'partition',\n",
       " 'replace',\n",
       " 'rfind',\n",
       " 'rindex',\n",
       " 'rjust',\n",
       " 'rpartition',\n",
       " 'rsplit',\n",
       " 'rstrip',\n",
       " 'split',\n",
       " 'splitlines',\n",
       " 'startswith',\n",
       " 'strip',\n",
       " 'swapcase',\n",
       " 'title',\n",
       " 'translate',\n",
       " 'upper',\n",
       " 'zfill']"
      ]
     },
     "execution_count": 8,
     "metadata": {},
     "output_type": "execute_result"
    }
   ],
   "source": [
    "st1=\"hello\"\n",
    "dir(st1)"
   ]
  },
  {
   "cell_type": "code",
   "execution_count": 7,
   "id": "aa3e0e9e",
   "metadata": {},
   "outputs": [
    {
     "name": "stdout",
     "output_type": "stream",
     "text": [
      "so far xval: 1\n",
      "so far xval: 1\n"
     ]
    }
   ],
   "source": [
    "class Person:\n",
    "    x=0\n",
    "    def __init__(self, n, a):\n",
    "        self.name=n\n",
    "        self.age=a\n",
    "    \n",
    "    def update(self):\n",
    "        self.x=self.x+1\n",
    "        print(\"so far xval:\",self.x)\n",
    "\n",
    "an = Person(\"xy\",23)\n",
    "an.update()\n",
    "an1 = Person(\"x3y\",233)\n",
    "an1.update()"
   ]
  },
  {
   "cell_type": "markdown",
   "id": "d495cad6",
   "metadata": {},
   "source": [
    "Create a class for creating rectangle objects\n",
    "\n",
    "i) create rectangle class with init method to initialize length and breadth. Also use str method to display the dimensions of rectangle\n",
    "\n",
    "ii)Create a rectangle class without init and str methods, create your own methods to initialize/set the length and breadth of rectangle and to display the dimensions of the rectangle\n",
    "\n",
    "iii) for the class created above include the methods to calculate area and perimeter of the rectangle and display the same"
   ]
  },
  {
   "cell_type": "code",
   "execution_count": 9,
   "id": "8297689d",
   "metadata": {},
   "outputs": [],
   "source": [
    "class rect:\n",
    "    def __init__(self, len, br):\n",
    "        self.length=len\n",
    "        self.breadth=br\n",
    "        \n",
    "    def __str__(self):\n",
    "        return f\"{self.length}X{self.breadth}\""
   ]
  },
  {
   "cell_type": "code",
   "execution_count": 10,
   "id": "0e02334c",
   "metadata": {},
   "outputs": [
    {
     "name": "stdout",
     "output_type": "stream",
     "text": [
      "5X6\n"
     ]
    }
   ],
   "source": [
    "r1= rect(5,6)\n",
    "print(r1)"
   ]
  },
  {
   "cell_type": "code",
   "execution_count": 11,
   "id": "fdd1f073",
   "metadata": {},
   "outputs": [],
   "source": [
    "class rect2:\n",
    "    \n",
    "    def setval(self, l, b):\n",
    "        self.len=l\n",
    "        self.br=b\n",
    "    \n",
    "    def display(self):\n",
    "        print(f\"{self.len}X{self.br}\")\n",
    "        \n",
    "    def area_peri(self):\n",
    "        return self.len*self.br, 2*(self.len+self.br)"
   ]
  },
  {
   "cell_type": "code",
   "execution_count": 21,
   "id": "b29ae5f4",
   "metadata": {},
   "outputs": [],
   "source": [
    "class rectangle:\n",
    "    length=0\n",
    "    bre=0\n",
    "    def getdata(self, l, b):\n",
    "        self.length=l\n",
    "        self.bre=b\n",
    "        \n",
    "    def area(self):\n",
    "        return self.length*self.bre\n",
    "    "
   ]
  },
  {
   "cell_type": "code",
   "execution_count": 22,
   "id": "b1a8d7b8",
   "metadata": {},
   "outputs": [
    {
     "data": {
      "text/plain": [
       "__main__.rectangle"
      ]
     },
     "execution_count": 22,
     "metadata": {},
     "output_type": "execute_result"
    }
   ],
   "source": [
    "r1=rectangle()\n",
    "type(r1)\n",
    "r1.getdata(5,7)"
   ]
  },
  {
   "cell_type": "code",
   "execution_count": 23,
   "id": "e6b9c148",
   "metadata": {},
   "outputs": [
    {
     "data": {
      "text/plain": [
       "['__class__',\n",
       " '__delattr__',\n",
       " '__dict__',\n",
       " '__dir__',\n",
       " '__doc__',\n",
       " '__eq__',\n",
       " '__format__',\n",
       " '__ge__',\n",
       " '__getattribute__',\n",
       " '__gt__',\n",
       " '__hash__',\n",
       " '__init__',\n",
       " '__init_subclass__',\n",
       " '__le__',\n",
       " '__lt__',\n",
       " '__module__',\n",
       " '__ne__',\n",
       " '__new__',\n",
       " '__reduce__',\n",
       " '__reduce_ex__',\n",
       " '__repr__',\n",
       " '__setattr__',\n",
       " '__sizeof__',\n",
       " '__str__',\n",
       " '__subclasshook__',\n",
       " '__weakref__',\n",
       " 'area',\n",
       " 'bre',\n",
       " 'getdata',\n",
       " 'length']"
      ]
     },
     "execution_count": 23,
     "metadata": {},
     "output_type": "execute_result"
    }
   ],
   "source": [
    "dir(r1)"
   ]
  },
  {
   "cell_type": "code",
   "execution_count": 12,
   "id": "523ca14e",
   "metadata": {},
   "outputs": [
    {
     "name": "stdout",
     "output_type": "stream",
     "text": [
      "Enter the number of objects to be created:2\n",
      "Enter length of rectangle2\n",
      "Enter breadth of rectangle3\n",
      "Enter length of rectangle3\n",
      "Enter breadth of rectangle4\n"
     ]
    }
   ],
   "source": [
    "# creating multiple instances of a class\n",
    "l1=[]\n",
    "num= int (input(\"Enter the number of objects to be created:\"))\n",
    "\n",
    "for i in range(num):\n",
    "    robj= rect2()\n",
    "    l= int(input(\"Enter length of rectangle\"))\n",
    "    b= int(input(\"Enter breadth of rectangle\"))\n",
    "    robj.setval(l,b)\n",
    "    l1.append(robj)"
   ]
  },
  {
   "cell_type": "code",
   "execution_count": 13,
   "id": "86d2e917",
   "metadata": {},
   "outputs": [
    {
     "data": {
      "text/plain": [
       "2"
      ]
     },
     "execution_count": 13,
     "metadata": {},
     "output_type": "execute_result"
    }
   ],
   "source": [
    "len(l1)"
   ]
  },
  {
   "cell_type": "code",
   "execution_count": 14,
   "id": "2c7899fd",
   "metadata": {},
   "outputs": [
    {
     "name": "stdout",
     "output_type": "stream",
     "text": [
      "3X4\n"
     ]
    }
   ],
   "source": [
    "l1[1].display()"
   ]
  },
  {
   "cell_type": "code",
   "execution_count": 15,
   "id": "e4c414cd",
   "metadata": {},
   "outputs": [
    {
     "name": "stdout",
     "output_type": "stream",
     "text": [
      "8X11\n",
      "88 : 38\n"
     ]
    }
   ],
   "source": [
    "r2=rect2()\n",
    "r2.setval(8,11)\n",
    "r2.display()\n",
    "area, peri= r2.area_peri()\n",
    "print(area,\":\", peri)"
   ]
  },
  {
   "cell_type": "code",
   "execution_count": 1,
   "id": "2f9840fc",
   "metadata": {},
   "outputs": [
    {
     "name": "stdout",
     "output_type": "stream",
     "text": [
      "I am constructed\n",
      "So far 1\n",
      "So far 2\n",
      "I am destructed 2\n",
      "an contains 42\n"
     ]
    }
   ],
   "source": [
    "# Object Life cycle and Destructor method\n",
    "class PartyAnimal:\n",
    "    x = 0\n",
    "    def __init__(self):\n",
    "        print('I am constructed')\n",
    "\n",
    "    def party(self) :\n",
    "        self.x = self.x + 1\n",
    "        print('So far',self.x)\n",
    "\n",
    "    def __del__(self):\n",
    "        print('I am destructed', self.x)\n",
    "an = PartyAnimal()\n",
    "an.party()\n",
    "an.party()\n",
    "an = 42\n",
    "print('an contains',an)"
   ]
  },
  {
   "cell_type": "code",
   "execution_count": 2,
   "id": "84ab188c",
   "metadata": {},
   "outputs": [],
   "source": [
    "class PartyAnimal:\n",
    "    x = 0\n",
    "    name = ''\n",
    "    \n",
    "    def __init__(self, name):\n",
    "        self.name = name\n",
    "        print(self.name,'constructed')\n",
    "\n",
    "    def party(self) :\n",
    "        self.x = self.x + 1\n",
    "        print(self.name,'party count',self.x)"
   ]
  },
  {
   "cell_type": "code",
   "execution_count": 4,
   "id": "3b7dfba9",
   "metadata": {},
   "outputs": [
    {
     "name": "stdout",
     "output_type": "stream",
     "text": [
      "Enter a name:ab\n",
      "ab constructed\n",
      "ab party count 1\n",
      "Enter a name:bc\n",
      "bc constructed\n",
      "bc party count 1\n",
      "Enter a name:cd\n",
      "cd constructed\n",
      "cd party count 1\n",
      "Enter a name:de\n",
      "de constructed\n",
      "de party count 1\n",
      "Enter a name:ef\n",
      "ef constructed\n",
      "ef party count 1\n"
     ]
    }
   ],
   "source": [
    "l1=[]\n",
    "\n",
    "for i in range(5):\n",
    "    in_name = input(\"Enter a name:\")\n",
    "    obj1= PartyAnimal(in_name)\n",
    "    obj1.party()\n",
    "    l1.append(obj1)"
   ]
  },
  {
   "cell_type": "code",
   "execution_count": 5,
   "id": "faa38148",
   "metadata": {},
   "outputs": [
    {
     "data": {
      "text/plain": [
       "5"
      ]
     },
     "execution_count": 5,
     "metadata": {},
     "output_type": "execute_result"
    }
   ],
   "source": [
    "len(l1)"
   ]
  },
  {
   "cell_type": "code",
   "execution_count": 7,
   "id": "1a1ad1bc",
   "metadata": {},
   "outputs": [
    {
     "name": "stdout",
     "output_type": "stream",
     "text": [
      "ab : 1\n",
      "bc : 1\n",
      "cd : 1\n",
      "de : 1\n",
      "ef : 1\n"
     ]
    }
   ],
   "source": [
    "for i in range(len(l1)):\n",
    "    print(l1[i].name,\":\",l1[i].x)"
   ]
  },
  {
   "cell_type": "code",
   "execution_count": 1,
   "id": "6e5992de",
   "metadata": {},
   "outputs": [],
   "source": [
    "class ObjlifeCycle:\n",
    "    val=0\n",
    "    def __init__(self):\n",
    "        print(\"Object is created\")\n",
    "    def update(self):\n",
    "        self.val=self.val+3\n",
    "        \n",
    "    def __del__(self):\n",
    "        print(\"Object getting destroyed with val:\", self.val)"
   ]
  },
  {
   "cell_type": "code",
   "execution_count": 3,
   "id": "d98f3cba",
   "metadata": {},
   "outputs": [
    {
     "name": "stdout",
     "output_type": "stream",
     "text": [
      "Object is created\n"
     ]
    }
   ],
   "source": [
    "o1=ObjlifeCycle()"
   ]
  },
  {
   "cell_type": "code",
   "execution_count": 4,
   "id": "53b6d9ad",
   "metadata": {},
   "outputs": [],
   "source": [
    "o1.update()"
   ]
  },
  {
   "cell_type": "code",
   "execution_count": 5,
   "id": "ae04e9d2",
   "metadata": {},
   "outputs": [
    {
     "name": "stdout",
     "output_type": "stream",
     "text": [
      "Object getting destroyed with val: 3\n"
     ]
    }
   ],
   "source": [
    "o1=15"
   ]
  },
  {
   "cell_type": "code",
   "execution_count": 6,
   "id": "c1cc9c9f",
   "metadata": {},
   "outputs": [
    {
     "name": "stdout",
     "output_type": "stream",
     "text": [
      "Object is created\n"
     ]
    }
   ],
   "source": [
    "o2=ObjlifeCycle()"
   ]
  },
  {
   "cell_type": "code",
   "execution_count": 7,
   "id": "318e39a5",
   "metadata": {},
   "outputs": [
    {
     "name": "stdout",
     "output_type": "stream",
     "text": [
      "Object getting destroyed with val: 0\n"
     ]
    }
   ],
   "source": [
    "del o2"
   ]
  },
  {
   "cell_type": "markdown",
   "id": "3b8603c1",
   "metadata": {},
   "source": [
    "INHERITANCE"
   ]
  },
  {
   "cell_type": "code",
   "execution_count": 8,
   "id": "ae84d5ff",
   "metadata": {},
   "outputs": [],
   "source": [
    "class Person:\n",
    "    def __init__(self, n, a):\n",
    "        self.aid=a\n",
    "        self.name=n\n",
    "        print(\"Creating Person object with:\",self.name,\":\",self.aid)        "
   ]
  },
  {
   "cell_type": "code",
   "execution_count": 26,
   "id": "984828de",
   "metadata": {},
   "outputs": [],
   "source": [
    "# single inheritance\n",
    "class Student(Person):\n",
    "    usn=\"\"\n",
    "    def setUSN(self,u):\n",
    "        self.usn=u\n",
    "        \n",
    "    def show(self):\n",
    "        print(f\"Student details: name: {self.name} usn:{self.usn}\")"
   ]
  },
  {
   "cell_type": "code",
   "execution_count": 27,
   "id": "4e2b4c00",
   "metadata": {},
   "outputs": [
    {
     "name": "stdout",
     "output_type": "stream",
     "text": [
      "Creating Person object with: Yash : 23476853389\n"
     ]
    }
   ],
   "source": [
    "s1=Student(\"Yash\",\"23476853389\")\n",
    "s1.setUSN(\"CS0098\")"
   ]
  },
  {
   "cell_type": "code",
   "execution_count": 28,
   "id": "aeb22474",
   "metadata": {},
   "outputs": [
    {
     "name": "stdout",
     "output_type": "stream",
     "text": [
      "Student details: name: Yash usn:CS0098\n"
     ]
    }
   ],
   "source": [
    "s1.show()"
   ]
  },
  {
   "cell_type": "code",
   "execution_count": 16,
   "id": "4134b10c",
   "metadata": {},
   "outputs": [
    {
     "data": {
      "text/plain": [
       "'Yash'"
      ]
     },
     "execution_count": 16,
     "metadata": {},
     "output_type": "execute_result"
    }
   ],
   "source": [
    "s1.name"
   ]
  },
  {
   "cell_type": "code",
   "execution_count": 16,
   "id": "5ce68b9e",
   "metadata": {},
   "outputs": [],
   "source": [
    "class SuperCl:\n",
    "    __a=0\n",
    "    def __init__(self,a):\n",
    "        self.a=a\n",
    "        print(\"inside init of parent class\")"
   ]
  },
  {
   "cell_type": "code",
   "execution_count": null,
   "id": "f7ece4c9",
   "metadata": {},
   "outputs": [],
   "source": [
    "class A:\n",
    "    def __init__(self):\n",
    "        print(\"Inside A\")"
   ]
  },
  {
   "cell_type": "code",
   "execution_count": 23,
   "id": "b3f8a334",
   "metadata": {},
   "outputs": [],
   "source": [
    "class B:\n",
    "    def __init__(self):\n",
    "        print(\"Inside B\")"
   ]
  },
  {
   "cell_type": "code",
   "execution_count": 24,
   "id": "db7f4213",
   "metadata": {},
   "outputs": [],
   "source": [
    "# multiple inheritance\n",
    "class C(A,B):\n",
    "    pass"
   ]
  },
  {
   "cell_type": "code",
   "execution_count": 25,
   "id": "7398473c",
   "metadata": {},
   "outputs": [
    {
     "name": "stdout",
     "output_type": "stream",
     "text": [
      "Inside B\n"
     ]
    }
   ],
   "source": [
    "c1=C()"
   ]
  },
  {
   "cell_type": "code",
   "execution_count": 27,
   "id": "e45074c7",
   "metadata": {},
   "outputs": [],
   "source": [
    "# multiple inheritance\n",
    "class D(B,A):\n",
    "    pass"
   ]
  },
  {
   "cell_type": "code",
   "execution_count": 28,
   "id": "e7e9daad",
   "metadata": {},
   "outputs": [
    {
     "name": "stdout",
     "output_type": "stream",
     "text": [
      "Inside B\n"
     ]
    }
   ],
   "source": [
    "d1=D() \n",
    "# ambiguity, will not give error if child class doesn't resolve\n",
    "#which __init method to be called, any is called"
   ]
  },
  {
   "cell_type": "code",
   "execution_count": 17,
   "id": "361029a0",
   "metadata": {},
   "outputs": [],
   "source": [
    "# accessing super class __init__ inside sub class\n",
    "class SubCl(SuperCl):\n",
    "    def __init__(self,a, b):\n",
    "        # we can either use super() or class name to access super class __init__ \n",
    "        #super().__init__(a) \n",
    "        SuperCl.__init__(self,a)\n",
    "        self.b=b\n",
    "        print(\"inside init of child class\")"
   ]
  },
  {
   "cell_type": "code",
   "execution_count": 18,
   "id": "f6cab4c3",
   "metadata": {},
   "outputs": [
    {
     "name": "stdout",
     "output_type": "stream",
     "text": [
      "inside init of parent class\n",
      "inside init of child class\n"
     ]
    }
   ],
   "source": [
    "c1=SubCl(4,5)"
   ]
  },
  {
   "cell_type": "code",
   "execution_count": 19,
   "id": "99df677a",
   "metadata": {},
   "outputs": [
    {
     "data": {
      "text/plain": [
       "4"
      ]
     },
     "execution_count": 19,
     "metadata": {},
     "output_type": "execute_result"
    }
   ],
   "source": [
    "c1.a"
   ]
  },
  {
   "cell_type": "code",
   "execution_count": 20,
   "id": "7fdb540a",
   "metadata": {},
   "outputs": [],
   "source": [
    "# declaring and accessing private member variable\n",
    "class A:\n",
    "    __a=10 # declaring a as private\n",
    "    \n",
    "    def update(self):\n",
    "        self.__a=self.__a+6\n",
    "    def show(self):\n",
    "        print(\"Inside show\")\n",
    "        print(self.__a)"
   ]
  },
  {
   "cell_type": "code",
   "execution_count": 21,
   "id": "39930aac",
   "metadata": {},
   "outputs": [
    {
     "name": "stdout",
     "output_type": "stream",
     "text": [
      "Inside show\n",
      "10\n"
     ]
    }
   ],
   "source": [
    "a1=A()\n",
    "a1.show()"
   ]
  },
  {
   "cell_type": "code",
   "execution_count": 22,
   "id": "6a9cc8ed",
   "metadata": {},
   "outputs": [
    {
     "ename": "AttributeError",
     "evalue": "'A' object has no attribute 'a'",
     "output_type": "error",
     "traceback": [
      "\u001b[1;31m---------------------------------------------------------------------------\u001b[0m",
      "\u001b[1;31mAttributeError\u001b[0m                            Traceback (most recent call last)",
      "\u001b[1;32m<ipython-input-22-30ee37e7ddc1>\u001b[0m in \u001b[0;36m<module>\u001b[1;34m\u001b[0m\n\u001b[1;32m----> 1\u001b[1;33m \u001b[0ma1\u001b[0m\u001b[1;33m.\u001b[0m\u001b[0ma\u001b[0m \u001b[1;31m#will give error can not access the private variable outside the class\u001b[0m\u001b[1;33m\u001b[0m\u001b[1;33m\u001b[0m\u001b[0m\n\u001b[0m",
      "\u001b[1;31mAttributeError\u001b[0m: 'A' object has no attribute 'a'"
     ]
    }
   ],
   "source": [
    "a1.a #will give error can not access the private variable outside the class"
   ]
  },
  {
   "cell_type": "code",
   "execution_count": null,
   "id": "6cab0845",
   "metadata": {},
   "outputs": [],
   "source": []
  }
 ],
 "metadata": {
  "kernelspec": {
   "display_name": "Python 3",
   "language": "python",
   "name": "python3"
  },
  "language_info": {
   "codemirror_mode": {
    "name": "ipython",
    "version": 3
   },
   "file_extension": ".py",
   "mimetype": "text/x-python",
   "name": "python",
   "nbconvert_exporter": "python",
   "pygments_lexer": "ipython3",
   "version": "3.8.8"
  }
 },
 "nbformat": 4,
 "nbformat_minor": 5
}
