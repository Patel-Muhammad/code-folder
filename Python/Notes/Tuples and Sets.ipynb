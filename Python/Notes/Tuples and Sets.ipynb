{
 "cells": [
  {
   "cell_type": "markdown",
   "id": "7fb60c2d",
   "metadata": {},
   "source": [
    "Create Tuples"
   ]
  },
  {
   "cell_type": "code",
   "execution_count": 24,
   "id": "08bb561b",
   "metadata": {},
   "outputs": [
    {
     "data": {
      "text/plain": [
       "tuple"
      ]
     },
     "execution_count": 24,
     "metadata": {},
     "output_type": "execute_result"
    }
   ],
   "source": [
    "t1= 1,2,3\n",
    "type(t1)"
   ]
  },
  {
   "cell_type": "code",
   "execution_count": 25,
   "id": "5ef2b09f",
   "metadata": {},
   "outputs": [
    {
     "data": {
      "text/plain": [
       "tuple"
      ]
     },
     "execution_count": 25,
     "metadata": {},
     "output_type": "execute_result"
    }
   ],
   "source": [
    "t2= (1,2,3,4)\n",
    "type(t2)"
   ]
  },
  {
   "cell_type": "code",
   "execution_count": 27,
   "id": "bb7669d1",
   "metadata": {},
   "outputs": [
    {
     "data": {
      "text/plain": [
       "(2, 3)"
      ]
     },
     "execution_count": 27,
     "metadata": {},
     "output_type": "execute_result"
    }
   ],
   "source": [
    "t3= tuple((2,3))\n",
    "t3"
   ]
  },
  {
   "cell_type": "markdown",
   "id": "8a464dd2",
   "metadata": {},
   "source": [
    "To create tuples with one value"
   ]
  },
  {
   "cell_type": "code",
   "execution_count": 32,
   "id": "0c750c10",
   "metadata": {},
   "outputs": [
    {
     "data": {
      "text/plain": [
       "tuple"
      ]
     },
     "execution_count": 32,
     "metadata": {},
     "output_type": "execute_result"
    }
   ],
   "source": [
    "t4= (15.9,)\n",
    "type(t4)"
   ]
  },
  {
   "cell_type": "markdown",
   "id": "aafc0fba",
   "metadata": {},
   "source": [
    "Access/update tuple values\n",
    "Create a tuple with 4 colors and iterate through the tuple"
   ]
  },
  {
   "cell_type": "code",
   "execution_count": 33,
   "id": "6eacc897",
   "metadata": {},
   "outputs": [
    {
     "name": "stdout",
     "output_type": "stream",
     "text": [
      "red\n",
      "yellow\n",
      "green\n",
      "blue\n"
     ]
    }
   ],
   "source": [
    "tclr= (\"red\",\"yellow\",\"green\",\"blue\")\n",
    "for clr in tclr:\n",
    "    print(clr)"
   ]
  },
  {
   "cell_type": "code",
   "execution_count": 36,
   "id": "cda612bb",
   "metadata": {},
   "outputs": [
    {
     "name": "stdout",
     "output_type": "stream",
     "text": [
      "yellow\n"
     ]
    },
    {
     "ename": "TypeError",
     "evalue": "'tuple' object does not support item assignment",
     "output_type": "error",
     "traceback": [
      "\u001b[1;31m---------------------------------------------------------------------------\u001b[0m",
      "\u001b[1;31mTypeError\u001b[0m                                 Traceback (most recent call last)",
      "\u001b[1;32m<ipython-input-36-aea6c6a26c94>\u001b[0m in \u001b[0;36m<module>\u001b[1;34m\u001b[0m\n\u001b[0;32m      1\u001b[0m \u001b[0mprint\u001b[0m\u001b[1;33m(\u001b[0m\u001b[0mtclr\u001b[0m\u001b[1;33m[\u001b[0m\u001b[1;36m1\u001b[0m\u001b[1;33m]\u001b[0m\u001b[1;33m)\u001b[0m\u001b[1;33m\u001b[0m\u001b[1;33m\u001b[0m\u001b[0m\n\u001b[1;32m----> 2\u001b[1;33m \u001b[0mtclr\u001b[0m\u001b[1;33m[\u001b[0m\u001b[1;36m0\u001b[0m\u001b[1;33m]\u001b[0m\u001b[1;33m=\u001b[0m\u001b[1;34m\"white\"\u001b[0m\u001b[1;33m\u001b[0m\u001b[1;33m\u001b[0m\u001b[0m\n\u001b[0m",
      "\u001b[1;31mTypeError\u001b[0m: 'tuple' object does not support item assignment"
     ]
    }
   ],
   "source": [
    "print(tclr[1])\n",
    "tclr[0]=\"white\""
   ]
  },
  {
   "cell_type": "code",
   "execution_count": 41,
   "id": "a8bab88a",
   "metadata": {},
   "outputs": [
    {
     "data": {
      "text/plain": [
       "('red', 'yellow', 'green', 'blue', 'white', 'black')"
      ]
     },
     "execution_count": 41,
     "metadata": {},
     "output_type": "execute_result"
    }
   ],
   "source": [
    "tclr1= (\"red\",\"yellow\",\"green\",\"blue\")\n",
    "tclr2=(\"white\",\"black\")\n",
    "tclr=tclr1+tclr2\n",
    "tclr"
   ]
  },
  {
   "cell_type": "code",
   "execution_count": 38,
   "id": "cdadc52f",
   "metadata": {},
   "outputs": [
    {
     "name": "stdout",
     "output_type": "stream",
     "text": [
      "('yellow', 'green', 'blue')\n"
     ]
    }
   ],
   "source": [
    "# create slice \n",
    "print(tclr1[1:])"
   ]
  },
  {
   "cell_type": "code",
   "execution_count": 42,
   "id": "17a687ae",
   "metadata": {},
   "outputs": [
    {
     "data": {
      "text/plain": [
       "('white', 'yellow', 'green', 'blue')"
      ]
     },
     "execution_count": 42,
     "metadata": {},
     "output_type": "execute_result"
    }
   ],
   "source": [
    "tclr1= (\"white\",)+ tclr1[1:]\n",
    "tclr1"
   ]
  },
  {
   "cell_type": "markdown",
   "id": "a7357b87",
   "metadata": {},
   "source": [
    "To reassign value "
   ]
  },
  {
   "cell_type": "code",
   "execution_count": 49,
   "id": "c0ec0f71",
   "metadata": {},
   "outputs": [
    {
     "name": "stdout",
     "output_type": "stream",
     "text": [
      "2\n",
      "Tuple before changes: ('white', 'yellow', 'green', 'blue')\n"
     ]
    },
    {
     "data": {
      "text/plain": [
       "('white', 'yellow', 'purple', 'black', 'blue')"
      ]
     },
     "execution_count": 49,
     "metadata": {},
     "output_type": "execute_result"
    }
   ],
   "source": [
    "l1= list(tclr1)\n",
    "i = l1.index(\"green\")\n",
    "print(i)\n",
    "l1[i]=\"purple\"\n",
    "l1[3]= \"blue\"\n",
    "l1.insert(3,\"black\")\n",
    "print(\"Tuple before changes:\", tclr1)\n",
    "tclr1= tuple(l1)\n",
    "tclr1"
   ]
  },
  {
   "cell_type": "markdown",
   "id": "ada859e5",
   "metadata": {},
   "source": [
    "To compare tuple values"
   ]
  },
  {
   "cell_type": "code",
   "execution_count": 52,
   "id": "cac097cc",
   "metadata": {},
   "outputs": [
    {
     "data": {
      "text/plain": [
       "False"
      ]
     },
     "execution_count": 52,
     "metadata": {},
     "output_type": "execute_result"
    }
   ],
   "source": [
    "(1,13,17)<(1,5,9)"
   ]
  },
  {
   "cell_type": "code",
   "execution_count": 55,
   "id": "e8ec90a7",
   "metadata": {},
   "outputs": [
    {
     "data": {
      "text/plain": [
       "False"
      ]
     },
     "execution_count": 55,
     "metadata": {},
     "output_type": "execute_result"
    }
   ],
   "source": [
    "(5,7,9)>(5,7,9)"
   ]
  },
  {
   "cell_type": "markdown",
   "id": "ef57af45",
   "metadata": {},
   "source": [
    "The sort function works the same way. It sorts primarily by first element, but in the case of a tie, it sorts by second element, and so on.\n",
    "\n",
    "This feature lends itself to a pattern called DSU for\n",
    "\n",
    "Decorate==>a sequence by building a list of tuples with one or more sort keys preceding the elements from the sequence,\n",
    "Sort==>the list of tuples using the Python built-in sort, and \n",
    "Undecorate ==> by extracting the sorted elements of the sequence."
   ]
  },
  {
   "cell_type": "markdown",
   "id": "3899b44e",
   "metadata": {},
   "source": [
    "you have a list of words and you want to sort them from longest to shortest:"
   ]
  },
  {
   "cell_type": "code",
   "execution_count": 59,
   "id": "1d9e2078",
   "metadata": {},
   "outputs": [
    {
     "data": {
      "text/plain": [
       "True"
      ]
     },
     "execution_count": 59,
     "metadata": {},
     "output_type": "execute_result"
    }
   ],
   "source": [
    "[1,3,5]>[1,2,6]"
   ]
  },
  {
   "cell_type": "code",
   "execution_count": 63,
   "id": "35b2df09",
   "metadata": {},
   "outputs": [
    {
     "name": "stdout",
     "output_type": "stream",
     "text": [
      "<class 'list'>\n",
      "before sort [(1, 'I'), (6, 'wonder'), (3, 'now'), (4, 'what'), (2, 'is'), (4, 'this')]\n"
     ]
    },
    {
     "data": {
      "text/plain": [
       "['wonder', 'what', 'this', 'now', 'is', 'I']"
      ]
     },
     "execution_count": 63,
     "metadata": {},
     "output_type": "execute_result"
    }
   ],
   "source": [
    "text='I wonder now what is this'\n",
    "words = text.split()\n",
    "print(type(words))\n",
    "deco= list()\n",
    "for word in words:\n",
    "    deco.append((len(word),word))\n",
    "print(\"before sort\",deco)\n",
    "\n",
    "deco.sort(reverse=True)\n",
    "newlist=[]\n",
    "for ct, val in deco:\n",
    "    newlist.append(val)\n",
    "    \n",
    "newlist"
   ]
  },
  {
   "cell_type": "markdown",
   "id": "58f098ad",
   "metadata": {},
   "source": [
    "Tuple assignment"
   ]
  },
  {
   "cell_type": "markdown",
   "id": "435285a1",
   "metadata": {},
   "source": [
    "Dictionaries and tuples\n",
    "Dictionaries have a method called items that returns a list of tuples, where each tuple is a key-value pair:"
   ]
  },
  {
   "cell_type": "code",
   "execution_count": 5,
   "id": "5184a055",
   "metadata": {},
   "outputs": [
    {
     "name": "stdout",
     "output_type": "stream",
     "text": [
      "dict_items([('a', 4), ('d', 13), ('b', 9), ('c', 6)])\n"
     ]
    },
    {
     "data": {
      "text/plain": [
       "dict_items"
      ]
     },
     "execution_count": 5,
     "metadata": {},
     "output_type": "execute_result"
    }
   ],
   "source": [
    "d1= {'a':4, 'd':13, 'b':9, 'c':6}\n",
    "print(d1.items())\n",
    "type(d1.items())\n"
   ]
  },
  {
   "cell_type": "code",
   "execution_count": 9,
   "id": "953f2945",
   "metadata": {},
   "outputs": [
    {
     "name": "stdout",
     "output_type": "stream",
     "text": [
      "list before sort [('a', 4), ('d', 13), ('b', 9), ('c', 6)]\n",
      "list after sort [('a', 4), ('b', 9), ('c', 6), ('d', 13)]\n"
     ]
    },
    {
     "data": {
      "text/plain": [
       "{'a': 4, 'b': 9, 'c': 6, 'd': 13}"
      ]
     },
     "execution_count": 9,
     "metadata": {},
     "output_type": "execute_result"
    }
   ],
   "source": [
    "# step1: create a list of dictionay items as list of tuples\n",
    "l1= list(d1.items())\n",
    "print(\"list before sort\", l1)\n",
    "#step 2: sort the list\n",
    "l1.sort()\n",
    "print(\"list after sort\", l1)\n",
    "# step 3: Reassign the list values to dictinary\n",
    "d1= dict(l1)\n",
    "d1"
   ]
  },
  {
   "cell_type": "code",
   "execution_count": 11,
   "id": "f0a46560",
   "metadata": {},
   "outputs": [
    {
     "data": {
      "text/plain": [
       "{4: 'a'}"
      ]
     },
     "execution_count": 11,
     "metadata": {},
     "output_type": "execute_result"
    }
   ],
   "source": [
    "# Reverese Key: val pair to val:key pair in other dictionary\n",
    "d2={}\n",
    "d2[d1['a']]='a'"
   ]
  },
  {
   "cell_type": "code",
   "execution_count": 12,
   "id": "2d57ac82",
   "metadata": {},
   "outputs": [
    {
     "data": {
      "text/plain": [
       "{'a': 4, 'b': 9, 'c': 6, 'd': 13}"
      ]
     },
     "execution_count": 12,
     "metadata": {},
     "output_type": "execute_result"
    }
   ],
   "source": [
    "d1"
   ]
  },
  {
   "cell_type": "code",
   "execution_count": 21,
   "id": "82f39976",
   "metadata": {},
   "outputs": [
    {
     "data": {
      "text/plain": [
       "{4: 'a', 9: 'b', 6: 'c', 13: 'd'}"
      ]
     },
     "execution_count": 21,
     "metadata": {},
     "output_type": "execute_result"
    }
   ],
   "source": [
    "d3={}\n",
    "for key in d1:\n",
    "    d3[d1[key]]= key\n",
    "d3"
   ]
  },
  {
   "cell_type": "code",
   "execution_count": 22,
   "id": "633d9a67",
   "metadata": {},
   "outputs": [
    {
     "name": "stdout",
     "output_type": "stream",
     "text": [
      "[(4, 'a'), (6, 'c'), (9, 'b'), (13, 'd')]\n"
     ]
    }
   ],
   "source": [
    "l1=list(d3.items())\n",
    "l1.sort()\n",
    "print(l1)"
   ]
  },
  {
   "cell_type": "code",
   "execution_count": null,
   "id": "689f9a1e",
   "metadata": {},
   "outputs": [
    {
     "ename": "",
     "evalue": "",
     "output_type": "error",
     "traceback": [
      "\u001b[1;31mRunning cells with 'c:\\Users\\patel\\AppData\\Local\\Programs\\Python\\Python311\\python.exe' requires ipykernel package.\n",
      "\u001b[1;31mRun the following command to install 'ipykernel' into the Python environment. \n",
      "\u001b[1;31mCommand: 'c:/Users/patel/AppData/Local/Programs/Python/Python311/python.exe -m pip install ipykernel -U --user --force-reinstall'"
     ]
    }
   ],
   "source": [
    "x, y = (1,2)\n",
    "x"
   ]
  },
  {
   "cell_type": "code",
   "execution_count": 26,
   "id": "e5647cee",
   "metadata": {},
   "outputs": [
    {
     "name": "stdout",
     "output_type": "stream",
     "text": [
      "4 : a\n",
      "6 : c\n",
      "9 : b\n",
      "13 : d\n"
     ]
    },
    {
     "data": {
      "text/plain": [
       "{'a': 4, 'c': 6, 'b': 9, 'd': 13}"
      ]
     },
     "execution_count": 26,
     "metadata": {},
     "output_type": "execute_result"
    }
   ],
   "source": [
    "d5={}\n",
    "for key, val in l1:\n",
    "    print(key,\":\",val)\n",
    "    d5[val]=key\n",
    "d5"
   ]
  },
  {
   "cell_type": "code",
   "execution_count": 23,
   "id": "c306d74f",
   "metadata": {},
   "outputs": [
    {
     "data": {
      "text/plain": [
       "{'a': 4, 'c': 6, 'b': 9, 'd': 13}"
      ]
     },
     "execution_count": 23,
     "metadata": {},
     "output_type": "execute_result"
    }
   ],
   "source": [
    "d4= dict(l1)\n",
    "d5={}\n",
    "for key in d4:\n",
    "    d5[d4[key]]=key\n",
    "d5"
   ]
  },
  {
   "cell_type": "markdown",
   "id": "804e722e",
   "metadata": {},
   "source": [
    "Change tuple values using lists"
   ]
  },
  {
   "cell_type": "code",
   "execution_count": 34,
   "id": "07aa6605",
   "metadata": {},
   "outputs": [
    {
     "data": {
      "text/plain": [
       "('red', 'green', 'blue', 'black')"
      ]
     },
     "execution_count": 34,
     "metadata": {},
     "output_type": "execute_result"
    }
   ],
   "source": [
    "tup_col= ('red','green','blue','white')\n",
    "l1=list(tup_col)\n",
    "l1[l1.index(\"white\")]=\"black\"\n",
    "tup_col=tuple(l1)\n",
    "tup_col"
   ]
  },
  {
   "cell_type": "code",
   "execution_count": null,
   "id": "9e173a72",
   "metadata": {},
   "outputs": [],
   "source": []
  },
  {
   "cell_type": "code",
   "execution_count": null,
   "id": "b5519a43",
   "metadata": {},
   "outputs": [],
   "source": []
  },
  {
   "cell_type": "markdown",
   "id": "b7e5dae9",
   "metadata": {},
   "source": [
    "To print the ten most common words in the text "
   ]
  },
  {
   "cell_type": "code",
   "execution_count": 64,
   "id": "baec0c12",
   "metadata": {},
   "outputs": [
    {
     "data": {
      "text/plain": [
       "' To understand basic concepts of computational thinking. To understand python programming for problem solving. To introduce different debugging and unit testing tools. To solve real world problems using python data structures. Learn to handle files and exception handling in python.'"
      ]
     },
     "execution_count": 64,
     "metadata": {},
     "output_type": "execute_result"
    }
   ],
   "source": [
    "text=\" To understand basic concepts of computational thinking. To understand python programming for problem solving. To introduce different debugging and unit testing tools. To solve real world problems using python data structures. Learn to handle files and exception handling in python.\"\n",
    "text"
   ]
  },
  {
   "cell_type": "markdown",
   "id": "bf03b32e",
   "metadata": {},
   "source": [
    "sort dictionary using tuple"
   ]
  },
  {
   "cell_type": "code",
   "execution_count": 22,
   "id": "d95ed4d8",
   "metadata": {},
   "outputs": [
    {
     "name": "stdout",
     "output_type": "stream",
     "text": [
      "{'to': 5, 'understand': 2, 'basic': 1, 'concepts': 1, 'of': 1, 'computational': 1, 'thinking.': 1, 'python': 2, 'programming': 1, 'for': 1, 'problem': 1, 'solving.': 1, 'introduce': 1, 'different': 1, 'debugging': 1, 'and': 2, 'unit': 1, 'testing': 1, 'tools.': 1, 'solve': 1, 'real': 1, 'world': 1, 'problems': 1, 'using': 1, 'data': 1, 'structures.': 1, 'learn': 1, 'handle': 1, 'files': 1, 'exception': 1, 'handling': 1, 'in': 1, 'python.': 1}\n",
      "5 to\n",
      "2 understand\n",
      "2 python\n",
      "2 and\n",
      "1 world\n",
      "1 using\n",
      "1 unit\n",
      "1 tools.\n",
      "1 thinking.\n",
      "1 testing\n"
     ]
    }
   ],
   "source": [
    "text=\" To understand basic concepts of computational thinking. To understand python programming for problem solving. To introduce different debugging and unit testing tools. To solve real world problems using python data structures. Learn to handle files and exception handling in python.\"\n",
    "text=text.lower()\n",
    "wrdct= dict()\n",
    "words = text.split()\n",
    "for word in words:\n",
    "    if word not in wrdct:\n",
    "        wrdct[word]=1\n",
    "    else:\n",
    "        wrdct[word]=wrdct[word]+1\n",
    "print(wrdct)\n",
    "\n",
    "lst = list()\n",
    "for key, val in list(wrdct.items()):\n",
    "    lst.append((val, key))\n",
    "\n",
    "lst.sort(reverse=True)\n",
    "\n",
    "for key, val in lst[:10]:\n",
    "    print(key, val)"
   ]
  },
  {
   "cell_type": "markdown",
   "id": "46c8221c",
   "metadata": {},
   "source": [
    "create Sets"
   ]
  },
  {
   "cell_type": "code",
   "execution_count": 38,
   "id": "ea18513b",
   "metadata": {},
   "outputs": [
    {
     "data": {
      "text/plain": [
       "set"
      ]
     },
     "execution_count": 38,
     "metadata": {},
     "output_type": "execute_result"
    }
   ],
   "source": [
    "s1= {1,2,4,3,3,2}\n",
    "type(s1)"
   ]
  },
  {
   "cell_type": "code",
   "execution_count": 39,
   "id": "d763a7d0",
   "metadata": {},
   "outputs": [
    {
     "data": {
      "text/plain": [
       "{1, 2, 3, 4}"
      ]
     },
     "execution_count": 39,
     "metadata": {},
     "output_type": "execute_result"
    }
   ],
   "source": [
    "s1"
   ]
  },
  {
   "cell_type": "code",
   "execution_count": 40,
   "id": "3c194e42",
   "metadata": {},
   "outputs": [
    {
     "name": "stdout",
     "output_type": "stream",
     "text": [
      "{1, 2, 3, 4}\n"
     ]
    }
   ],
   "source": [
    "print(s1)"
   ]
  },
  {
   "cell_type": "code",
   "execution_count": 41,
   "id": "75c5d44b",
   "metadata": {},
   "outputs": [
    {
     "ename": "TypeError",
     "evalue": "unhashable type: 'list'",
     "output_type": "error",
     "traceback": [
      "\u001b[1;31m---------------------------------------------------------------------------\u001b[0m",
      "\u001b[1;31mTypeError\u001b[0m                                 Traceback (most recent call last)",
      "\u001b[1;32m<ipython-input-41-e3c1b6ba1f68>\u001b[0m in \u001b[0;36m<module>\u001b[1;34m\u001b[0m\n\u001b[1;32m----> 1\u001b[1;33m \u001b[0ms2\u001b[0m\u001b[1;33m=\u001b[0m \u001b[1;33m{\u001b[0m\u001b[1;36m15\u001b[0m\u001b[1;33m,\u001b[0m \u001b[1;34m'Hello'\u001b[0m\u001b[1;33m,\u001b[0m\u001b[1;33m[\u001b[0m\u001b[1;36m3\u001b[0m\u001b[1;33m,\u001b[0m\u001b[1;36m5\u001b[0m\u001b[1;33m,\u001b[0m\u001b[1;36m3\u001b[0m\u001b[1;33m]\u001b[0m\u001b[1;33m}\u001b[0m\u001b[1;33m\u001b[0m\u001b[1;33m\u001b[0m\u001b[0m\n\u001b[0m\u001b[0;32m      2\u001b[0m \u001b[0ms2\u001b[0m\u001b[1;33m\u001b[0m\u001b[1;33m\u001b[0m\u001b[0m\n",
      "\u001b[1;31mTypeError\u001b[0m: unhashable type: 'list'"
     ]
    }
   ],
   "source": [
    "s2= {15, 'Hello',[3,5,3]}\n",
    "s2"
   ]
  },
  {
   "cell_type": "code",
   "execution_count": 43,
   "id": "d68cc837",
   "metadata": {},
   "outputs": [
    {
     "data": {
      "text/plain": [
       "{15, 'Hello'}"
      ]
     },
     "execution_count": 43,
     "metadata": {},
     "output_type": "execute_result"
    }
   ],
   "source": [
    "s2= set({15,'Hello'})\n",
    "s2"
   ]
  },
  {
   "cell_type": "code",
   "execution_count": 44,
   "id": "e3347e4e",
   "metadata": {},
   "outputs": [
    {
     "data": {
      "text/plain": [
       "{1, 2, 4, 23, 75}"
      ]
     },
     "execution_count": 44,
     "metadata": {},
     "output_type": "execute_result"
    }
   ],
   "source": [
    "l1=[1,2,4,75,23]\n",
    "s3= set(l1)\n",
    "s3"
   ]
  },
  {
   "cell_type": "code",
   "execution_count": 45,
   "id": "768fe96d",
   "metadata": {},
   "outputs": [
    {
     "data": {
      "text/plain": [
       "{1, 2, 4, 23, 25, 75}"
      ]
     },
     "execution_count": 45,
     "metadata": {},
     "output_type": "execute_result"
    }
   ],
   "source": [
    "s3.add(25)\n",
    "s3"
   ]
  },
  {
   "cell_type": "code",
   "execution_count": 47,
   "id": "092c7c54",
   "metadata": {},
   "outputs": [
    {
     "data": {
      "text/plain": [
       "{1, 2, 4, 12, 23, 25, 35, 75}"
      ]
     },
     "execution_count": 47,
     "metadata": {},
     "output_type": "execute_result"
    }
   ],
   "source": [
    "s3.update([12,35])\n",
    "s3"
   ]
  },
  {
   "cell_type": "code",
   "execution_count": 48,
   "id": "5c2be6b4",
   "metadata": {},
   "outputs": [
    {
     "data": {
      "text/plain": [
       "{1, 2, 4, 12, 23, 25, 35, 75}"
      ]
     },
     "execution_count": 48,
     "metadata": {},
     "output_type": "execute_result"
    }
   ],
   "source": [
    "s3.add(12)\n",
    "s3"
   ]
  },
  {
   "cell_type": "code",
   "execution_count": 49,
   "id": "a7262464",
   "metadata": {},
   "outputs": [
    {
     "data": {
      "text/plain": [
       "{1, 2, 3, 4, 5}"
      ]
     },
     "execution_count": 49,
     "metadata": {},
     "output_type": "execute_result"
    }
   ],
   "source": [
    "s1= {1,2,3}\n",
    "s2={3,4,5}\n",
    "s4= s1|s2 # Union of 2 sets\n",
    "s4"
   ]
  },
  {
   "cell_type": "code",
   "execution_count": 50,
   "id": "03fc52d0",
   "metadata": {},
   "outputs": [
    {
     "data": {
      "text/plain": [
       "{3}"
      ]
     },
     "execution_count": 50,
     "metadata": {},
     "output_type": "execute_result"
    }
   ],
   "source": [
    "s5= s1&s2 # intersection of sets\n",
    "s5"
   ]
  },
  {
   "cell_type": "code",
   "execution_count": 51,
   "id": "1862796b",
   "metadata": {},
   "outputs": [
    {
     "data": {
      "text/plain": [
       "{1, 2}"
      ]
     },
     "execution_count": 51,
     "metadata": {},
     "output_type": "execute_result"
    }
   ],
   "source": [
    "s6=s1-s2 # set difference\n",
    "s6"
   ]
  },
  {
   "cell_type": "code",
   "execution_count": 52,
   "id": "d67ae830",
   "metadata": {},
   "outputs": [
    {
     "data": {
      "text/plain": [
       "{4, 5}"
      ]
     },
     "execution_count": 52,
     "metadata": {},
     "output_type": "execute_result"
    }
   ],
   "source": [
    "s7=s2-s1\n",
    "s7"
   ]
  },
  {
   "cell_type": "code",
   "execution_count": 53,
   "id": "acdc4dae",
   "metadata": {},
   "outputs": [
    {
     "data": {
      "text/plain": [
       "{1, 2, 4, 5}"
      ]
     },
     "execution_count": 53,
     "metadata": {},
     "output_type": "execute_result"
    }
   ],
   "source": [
    "s8=s1^s2 # symmeteric difference\n",
    "s8"
   ]
  },
  {
   "cell_type": "code",
   "execution_count": 54,
   "id": "102fcc61",
   "metadata": {},
   "outputs": [
    {
     "data": {
      "text/plain": [
       "{2, 4, 5}"
      ]
     },
     "execution_count": 54,
     "metadata": {},
     "output_type": "execute_result"
    }
   ],
   "source": [
    "s8.pop()\n",
    "s8"
   ]
  },
  {
   "cell_type": "code",
   "execution_count": 55,
   "id": "cc50b1a4",
   "metadata": {},
   "outputs": [
    {
     "data": {
      "text/plain": [
       "{4, 5}"
      ]
     },
     "execution_count": 55,
     "metadata": {},
     "output_type": "execute_result"
    }
   ],
   "source": [
    "s8.remove(2)\n",
    "s8"
   ]
  },
  {
   "cell_type": "code",
   "execution_count": 56,
   "id": "e751ae2c",
   "metadata": {},
   "outputs": [
    {
     "ename": "KeyError",
     "evalue": "3",
     "output_type": "error",
     "traceback": [
      "\u001b[1;31m---------------------------------------------------------------------------\u001b[0m",
      "\u001b[1;31mKeyError\u001b[0m                                  Traceback (most recent call last)",
      "\u001b[1;32m<ipython-input-56-9bc857e3a9f6>\u001b[0m in \u001b[0;36m<module>\u001b[1;34m\u001b[0m\n\u001b[1;32m----> 1\u001b[1;33m \u001b[0ms8\u001b[0m\u001b[1;33m.\u001b[0m\u001b[0mremove\u001b[0m\u001b[1;33m(\u001b[0m\u001b[1;36m3\u001b[0m\u001b[1;33m)\u001b[0m\u001b[1;33m\u001b[0m\u001b[1;33m\u001b[0m\u001b[0m\n\u001b[0m\u001b[0;32m      2\u001b[0m \u001b[0ms8\u001b[0m\u001b[1;33m\u001b[0m\u001b[1;33m\u001b[0m\u001b[0m\n",
      "\u001b[1;31mKeyError\u001b[0m: 3"
     ]
    }
   ],
   "source": [
    "s8.remove(3)\n",
    "s8"
   ]
  },
  {
   "cell_type": "code",
   "execution_count": 57,
   "id": "9ab8b859",
   "metadata": {},
   "outputs": [
    {
     "data": {
      "text/plain": [
       "{4, 5}"
      ]
     },
     "execution_count": 57,
     "metadata": {},
     "output_type": "execute_result"
    }
   ],
   "source": [
    "s8.discard(2)\n",
    "s8"
   ]
  },
  {
   "cell_type": "code",
   "execution_count": 58,
   "id": "701f6ff6",
   "metadata": {},
   "outputs": [
    {
     "data": {
      "text/plain": [
       "set()"
      ]
     },
     "execution_count": 58,
     "metadata": {},
     "output_type": "execute_result"
    }
   ],
   "source": [
    "s8.clear()\n",
    "s8"
   ]
  },
  {
   "cell_type": "code",
   "execution_count": 59,
   "id": "a025b920",
   "metadata": {},
   "outputs": [
    {
     "data": {
      "text/plain": [
       "{1}"
      ]
     },
     "execution_count": 59,
     "metadata": {},
     "output_type": "execute_result"
    }
   ],
   "source": [
    "s8={1}\n",
    "s8"
   ]
  },
  {
   "cell_type": "code",
   "execution_count": 60,
   "id": "1c70cf7f",
   "metadata": {},
   "outputs": [
    {
     "ename": "NameError",
     "evalue": "name 's8' is not defined",
     "output_type": "error",
     "traceback": [
      "\u001b[1;31m---------------------------------------------------------------------------\u001b[0m",
      "\u001b[1;31mNameError\u001b[0m                                 Traceback (most recent call last)",
      "\u001b[1;32m<ipython-input-60-97ffe10801ab>\u001b[0m in \u001b[0;36m<module>\u001b[1;34m\u001b[0m\n\u001b[0;32m      1\u001b[0m \u001b[1;32mdel\u001b[0m \u001b[0ms8\u001b[0m\u001b[1;33m\u001b[0m\u001b[1;33m\u001b[0m\u001b[0m\n\u001b[1;32m----> 2\u001b[1;33m \u001b[0ms8\u001b[0m\u001b[1;33m\u001b[0m\u001b[1;33m\u001b[0m\u001b[0m\n\u001b[0m",
      "\u001b[1;31mNameError\u001b[0m: name 's8' is not defined"
     ]
    }
   ],
   "source": [
    "del s8\n",
    "s8"
   ]
  },
  {
   "cell_type": "code",
   "execution_count": null,
   "id": "b56ef966",
   "metadata": {},
   "outputs": [],
   "source": []
  }
 ],
 "metadata": {
  "kernelspec": {
   "display_name": "Python 3",
   "language": "python",
   "name": "python3"
  },
  "language_info": {
   "codemirror_mode": {
    "name": "ipython",
    "version": 3
   },
   "file_extension": ".py",
   "mimetype": "text/x-python",
   "name": "python",
   "nbconvert_exporter": "python",
   "pygments_lexer": "ipython3",
   "version": "3.11.0 (main, Oct 24 2022, 18:26:48) [MSC v.1933 64 bit (AMD64)]"
  },
  "vscode": {
   "interpreter": {
    "hash": "1c0600e66f10d4d196fe53bd7753043bf41876ffad1cf3c6ca157aafa009519c"
   }
  }
 },
 "nbformat": 4,
 "nbformat_minor": 5
}
